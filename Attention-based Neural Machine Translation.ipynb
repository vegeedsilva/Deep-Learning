{
  "nbformat": 4,
  "nbformat_minor": 0,
  "metadata": {
    "colab": {
      "name": "Untitled2.ipynb",
      "provenance": []
    },
    "kernelspec": {
      "name": "python3",
      "display_name": "Python 3"
    }
  },
  "cells": [
    {
      "cell_type": "markdown",
      "metadata": {
        "id": "pg5ralADfLlK"
      },
      "source": [
        "#Task 5: Attention-based Neural Machine Translation"
      ]
    },
    {
      "cell_type": "code",
      "metadata": {
        "id": "nlQIIf-ItMgr",
        "outputId": "18287026-213f-45e4-85e4-9e152ba6af3e",
        "colab": {
          "base_uri": "https://localhost:8080/",
          "height": 34
        }
      },
      "source": [
        "from google.colab import drive\n",
        "drive.mount('/gdrive')\n",
        "path_to_zip = \"/gdrive/My\\ Drive/Colab\\ Notebooks/IDL_Semester_Task_5/deu-eng/\"\n",
        "path_to_file = \"deu.txt\""
      ],
      "execution_count": null,
      "outputs": [
        {
          "output_type": "stream",
          "text": [
            "Mounted at /gdrive\n"
          ],
          "name": "stdout"
        }
      ]
    },
    {
      "cell_type": "code",
      "metadata": {
        "id": "4sXpO4vcRgW8"
      },
      "source": [
        "import tensorflow as tf\n",
        "\n",
        "import matplotlib.pyplot as plt\n",
        "import matplotlib.ticker as ticker\n",
        "from sklearn.model_selection import train_test_split\n",
        "\n",
        "import unicodedata\n",
        "import re\n",
        "import numpy as np\n",
        "import os\n",
        "import io\n",
        "import time"
      ],
      "execution_count": null,
      "outputs": []
    },
    {
      "cell_type": "code",
      "metadata": {
        "id": "5i41FPVkuCYT"
      },
      "source": [
        "# Converts the unicode file to ascii and retain german alphabets as is\n",
        "# Reference:- https://stackoverflow.com/questions/44576486/how-to-remove-just-the-accents-but-not-umlauts-from-strings-in-python\n",
        "\n",
        "def unicode_to_ascii(s):\n",
        "  return ''.join(c for c in unicodedata.normalize('NFD', s)\n",
        "      #if unicodedata.category(c) != 'Mn')\n",
        "      if not unicodedata.name(c).endswith('ACCENT'))\n",
        "\n",
        "def preprocess_sentence(w):\n",
        "  w = unicode_to_ascii(w.strip())\n",
        "  #print(w)\n",
        "\n",
        "  # creating a space between a word and the punctuation following it\n",
        "  # eg: \"he is a boy.\" => \"he is a boy .\"\n",
        "  # Reference:- https://stackoverflow.com/questions/3645931/python-padding-punctuation-with-white-spaces-keeping-punctuation\n",
        "  w = re.sub(r\"([?.!,])\", r\" \\1 \", w)\n",
        "  w = re.sub(r'[\" \"]+', \" \", w)\n",
        "\n",
        "  # replacing everything with space except (a-z, A-Z, \".\", \"?\", \"!\", \",\", AND german alphabets)\n",
        "  # Reference:- https://stackoverflow.com/questions/22017723/regex-for-umlaut   \\u00c4\\u00e4\\u00d6\\u00f6\\u00dc\\u00fc\\u00df\n",
        "  w = re.sub(r\"^[^\\u00c4\\u00e4\\u00d6\\u00f6\\u00dc\\u00fc\\u00dfa-zA-Z?.!,']+\", \" \", w)\n",
        "\n",
        "  w = w.strip()\n",
        "\n",
        "  # adding a start and an end token to the sentence\n",
        "  # so that the model know when to start and stop predicting.\n",
        "  w = '<start> ' + w + ' <end>'\n",
        "  return w"
      ],
      "execution_count": null,
      "outputs": []
    },
    {
      "cell_type": "code",
      "metadata": {
        "id": "c1Y4L05JuKer",
        "outputId": "6ac512fb-6cae-4744-888d-c15c5e5aac22",
        "colab": {
          "base_uri": "https://localhost:8080/",
          "height": 51
        }
      },
      "source": [
        "en_sentence = u\"Mary's hubby is chubby.\"\n",
        "de_sentence = u\"Marias Ehemännchen ist mopsig.\"\n",
        "print(preprocess_sentence(en_sentence))\n",
        "print(preprocess_sentence(de_sentence).encode('utf-8'))"
      ],
      "execution_count": null,
      "outputs": [
        {
          "output_type": "stream",
          "text": [
            "<start> Mary's hubby is chubby . <end>\n",
            "b'<start> Marias Ehema\\xcc\\x88nnchen ist mopsig . <end>'\n"
          ],
          "name": "stdout"
        }
      ]
    },
    {
      "cell_type": "code",
      "metadata": {
        "id": "ZloOEQMIuyF1"
      },
      "source": [
        "# 1. Remove the accents\n",
        "# 2. Clean the sentences\n",
        "# 3. Return word pairs in the format: [ENGLISH, GERMAN]\n",
        "def create_dataset(path, num_examples):\n",
        "  lines = io.open(path, encoding='UTF-8').read().strip().split('\\n')\n",
        "  word_pairs = [[preprocess_sentence(w) for w in l.split('\\t')]  for l in lines[25000:num_examples]]\n",
        "  return zip(*word_pairs)"
      ],
      "execution_count": null,
      "outputs": []
    },
    {
      "cell_type": "code",
      "metadata": {
        "id": "m8AmZPYe19Zq",
        "outputId": "ed3d2155-d404-4e04-f9ef-7db10cb175a3",
        "colab": {
          "base_uri": "https://localhost:8080/",
          "height": 68
        }
      },
      "source": [
        "%cd /gdrive/My\\ Drive/Colab\\ Notebooks/IDL_Semester_Task_5/deu-eng/\n",
        "! ls"
      ],
      "execution_count": null,
      "outputs": [
        {
          "output_type": "stream",
          "text": [
            "/gdrive/My Drive/Colab Notebooks/IDL_Semester_Task_5/deu-eng\n",
            "_about.txt  training_checkpoints_bahdanau  training_checkpoints_luong_general\n",
            "deu.txt     training_checkpoints_dot\n"
          ],
          "name": "stdout"
        }
      ]
    },
    {
      "cell_type": "code",
      "metadata": {
        "id": "LiF0mBU21XrY",
        "outputId": "c9f3b900-3239-4627-9014-42e8f1fbcf00",
        "colab": {
          "base_uri": "https://localhost:8080/",
          "height": 71
        }
      },
      "source": [
        "en, de = create_dataset(path_to_file, None)\n",
        "print(en[-1])\n",
        "print(de[-1])"
      ],
      "execution_count": null,
      "outputs": [
        {
          "output_type": "stream",
          "text": [
            "<start> Doubtless there exists in this world precisely the right woman for any given man to marry and vice versa; but when you consider that a human being has the opportunity of being acquainted with only a few hundred people , and out of the few hundred that there are but a dozen or less whom he knows intimately , and out of the dozen , one or two friends at most , it will easily be seen , when we remember the number of millions who inhabit this world , that probably , since the earth was created , the right man has never yet met the right woman . <end>\n",
            "<start> Ohne Zweifel findet sich auf dieser Welt zu jedem Mann genau die richtige Ehefrau und umgekehrt; wenn man jedoch in Betracht zieht , dass ein Mensch nur Gelegenheit hat , mit ein paar hundert anderen bekannt zu sein , von denen ihm nur ein Dutzend oder weniger nahesteht , darunter höchstens ein oder zwei Freunde , dann erahnt man eingedenk der Millionen Einwohner dieser Welt leicht , dass seit Erschaffung ebenderselben wohl noch nie der richtige Mann der richtigen Frau begegnet ist . <end>\n"
          ],
          "name": "stdout"
        }
      ]
    },
    {
      "cell_type": "code",
      "metadata": {
        "id": "1eYYFX_T1eUy"
      },
      "source": [
        "def tokenize(lang):\n",
        "  lang_tokenizer = tf.keras.preprocessing.text.Tokenizer(\n",
        "      filters='', lower=False)\n",
        "  lang_tokenizer.fit_on_texts(lang)\n",
        "\n",
        "  tensor = lang_tokenizer.texts_to_sequences(lang)\n",
        "\n",
        "  tensor = tf.keras.preprocessing.sequence.pad_sequences(tensor,\n",
        "                                                         padding='post')\n",
        "\n",
        "  return tensor, lang_tokenizer"
      ],
      "execution_count": null,
      "outputs": []
    },
    {
      "cell_type": "code",
      "metadata": {
        "id": "RIErUWeaCfbe"
      },
      "source": [
        "def load_dataset(path, num_examples=None):\n",
        "  # creating cleaned input, output pairs\n",
        "  targ_lang, inp_lang = create_dataset(path, num_examples)\n",
        "  #print(inp_lang[1])\n",
        "  input_tensor, inp_lang_tokenizer = tokenize(inp_lang)\n",
        "  target_tensor, targ_lang_tokenizer = tokenize(targ_lang)\n",
        "\n",
        "  return input_tensor, target_tensor, inp_lang_tokenizer, targ_lang_tokenizer"
      ],
      "execution_count": null,
      "outputs": []
    },
    {
      "cell_type": "code",
      "metadata": {
        "id": "lJbaNdn7Comr"
      },
      "source": [
        "# Try experimenting with the size of that dataset\n",
        "num_examples = 200000\n",
        "input_tensor, target_tensor, inp_lang, targ_lang = load_dataset(path_to_file, num_examples)\n",
        "\n",
        "# Calculate max_length of the target tensors\n",
        "max_length_targ, max_length_inp = target_tensor.shape[1], input_tensor.shape[1]"
      ],
      "execution_count": null,
      "outputs": []
    },
    {
      "cell_type": "code",
      "metadata": {
        "id": "RzTzx_HEjOcD"
      },
      "source": [
        "del en\n",
        "del de"
      ],
      "execution_count": null,
      "outputs": []
    },
    {
      "cell_type": "code",
      "metadata": {
        "id": "_c8kx4IXCy0B",
        "outputId": "e0ef355d-9865-4237-92a2-f40112f770b2",
        "colab": {
          "base_uri": "https://localhost:8080/",
          "height": 34
        }
      },
      "source": [
        "# Creating training and validation sets using an 80-20 split\n",
        "input_tensor_train, input_tensor_val, target_tensor_train, target_tensor_val = train_test_split(input_tensor, target_tensor, test_size=0.2)\n",
        "\n",
        "# Show length\n",
        "print(len(input_tensor_train), len(target_tensor_train), len(input_tensor_val), len(target_tensor_val))"
      ],
      "execution_count": null,
      "outputs": [
        {
          "output_type": "stream",
          "text": [
            "140000 140000 35000 35000\n"
          ],
          "name": "stdout"
        }
      ]
    },
    {
      "cell_type": "code",
      "metadata": {
        "id": "Pti3tkWsC2W9"
      },
      "source": [
        "def convert(lang, tensor):\n",
        "  for t in tensor:\n",
        "    if t!=0:\n",
        "      print (\"%d ----> %s\" % (t, lang.index_word[t]))"
      ],
      "execution_count": null,
      "outputs": []
    },
    {
      "cell_type": "code",
      "metadata": {
        "id": "CcCGVrcp0Cnm"
      },
      "source": [
        "  temp_sentence = \"Ohne Wasser mussten die Blumen sterben.\"\n",
        "  temp_sentence = preprocess_sentence(temp_sentence)\n",
        "  temp_inputs = [inp_lang.word_index[i] for i in temp_sentence.split(' ')]\n",
        "  temp_inputs = tf.keras.preprocessing.sequence.pad_sequences([temp_inputs],\n",
        "                                                         maxlen=max_length_inp,\n",
        "                                                         padding='post')\n",
        "  #temp_inputs = tf.convert_to_tensor(temp_inputs)\n",
        "\n",
        "\n",
        "  tar_sentence = \"Without water the flowers had to die.\"\n",
        "  tar_sentence = preprocess_sentence(tar_sentence)\n",
        "  temp_outputs = [targ_lang.word_index[i] for i in tar_sentence.split(' ')]\n",
        "  temp_outputs = tf.keras.preprocessing.sequence.pad_sequences([temp_outputs],\n",
        "                                                         maxlen=max_length_inp,\n",
        "                                                         padding='post')\n",
        " # temp_outputs = tf.convert_to_tensor(temp_outputs)"
      ],
      "execution_count": null,
      "outputs": []
    },
    {
      "cell_type": "code",
      "metadata": {
        "id": "akQYXBPB1Bbg",
        "outputId": "56bd1dff-275c-42e6-f8fb-659131439b72",
        "colab": {
          "base_uri": "https://localhost:8080/",
          "height": 68
        }
      },
      "source": [
        "temp_inputs"
      ],
      "execution_count": null,
      "outputs": [
        {
          "output_type": "execute_result",
          "data": {
            "text/plain": [
              "array([[   1,  898,  316, 2039,   16,  642, 1102,    3,    2,    0,    0,\n",
              "           0,    0,    0,    0,    0,    0,    0,    0,    0,    0,    0,\n",
              "           0,    0]], dtype=int32)"
            ]
          },
          "metadata": {
            "tags": []
          },
          "execution_count": 43
        }
      ]
    },
    {
      "cell_type": "code",
      "metadata": {
        "id": "-B1nmG5l1hgD",
        "outputId": "23c5ee9a-6e7b-4d16-de87-ddfc18c7c979",
        "colab": {
          "base_uri": "https://localhost:8080/",
          "height": 68
        }
      },
      "source": [
        "temp_outputs"
      ],
      "execution_count": null,
      "outputs": [
        {
          "output_type": "execute_result",
          "data": {
            "text/plain": [
              "array([[   1, 1886,  317,    9,  656,   71,    5,  796,    3,    2,    0,\n",
              "           0,    0,    0,    0,    0,    0,    0,    0,    0,    0,    0,\n",
              "           0,    0]], dtype=int32)"
            ]
          },
          "metadata": {
            "tags": []
          },
          "execution_count": 44
        }
      ]
    },
    {
      "cell_type": "code",
      "metadata": {
        "id": "Irgd0uCh1kp6",
        "outputId": "03d315e4-bcb2-486f-c828-0b00eb0b60f7",
        "colab": {
          "base_uri": "https://localhost:8080/",
          "height": 391
        }
      },
      "source": [
        "print (\"Input Language; index to word mapping\")\n",
        "convert(inp_lang, temp_inputs[0])\n",
        "print ()\n",
        "print (\"Target Language; index to word mapping\")\n",
        "convert(targ_lang, temp_outputs[0])"
      ],
      "execution_count": null,
      "outputs": [
        {
          "output_type": "stream",
          "text": [
            "Input Language; index to word mapping\n",
            "1 ----> <start>\n",
            "898 ----> Ohne\n",
            "316 ----> Wasser\n",
            "2039 ----> mussten\n",
            "16 ----> die\n",
            "642 ----> Blumen\n",
            "1102 ----> sterben\n",
            "3 ----> .\n",
            "2 ----> <end>\n",
            "\n",
            "Target Language; index to word mapping\n",
            "1 ----> <start>\n",
            "1886 ----> Without\n",
            "317 ----> water\n",
            "9 ----> the\n",
            "656 ----> flowers\n",
            "71 ----> had\n",
            "5 ----> to\n",
            "796 ----> die\n",
            "3 ----> .\n",
            "2 ----> <end>\n"
          ],
          "name": "stdout"
        }
      ]
    },
    {
      "cell_type": "code",
      "metadata": {
        "id": "UaH6lZrTC6Qz",
        "outputId": "78afe00b-c69d-4e3a-a3e2-95f7ae6e14f6",
        "colab": {
          "base_uri": "https://localhost:8080/",
          "height": 323
        }
      },
      "source": [
        "print (\"Input Language; index to word mapping\")\n",
        "convert(inp_lang, input_tensor_train[0])\n",
        "print ()\n",
        "print (\"Target Language; index to word mapping\")\n",
        "convert(targ_lang, target_tensor_train[0])"
      ],
      "execution_count": null,
      "outputs": [
        {
          "output_type": "stream",
          "text": [
            "Input Language; index to word mapping\n",
            "1 ----> <start>\n",
            "24 ----> Das\n",
            "225 ----> musst\n",
            "12 ----> du\n",
            "144 ----> sehen\n",
            "3 ----> .\n",
            "2 ----> <end>\n",
            "\n",
            "Target Language; index to word mapping\n",
            "1 ----> <start>\n",
            "27 ----> You\n",
            "17 ----> have\n",
            "5 ----> to\n",
            "93 ----> see\n",
            "24 ----> this\n",
            "3 ----> .\n",
            "2 ----> <end>\n"
          ],
          "name": "stdout"
        }
      ]
    },
    {
      "cell_type": "code",
      "metadata": {
        "id": "qgWGlmYaC9VW"
      },
      "source": [
        "BUFFER_SIZE = len(input_tensor_train)//4\n",
        "BATCH_SIZE = 64\n",
        "steps_per_epoch = len(input_tensor_train)//BATCH_SIZE\n",
        "embedding_dim = 256\n",
        "units = 1024\n",
        "vocab_inp_size = len(inp_lang.word_index)+1\n",
        "vocab_tar_size = len(targ_lang.word_index)+1\n",
        "\n",
        "dataset = tf.data.Dataset.from_tensor_slices((input_tensor_train, target_tensor_train)).shuffle(BUFFER_SIZE)\n",
        "dataset = dataset.batch(BATCH_SIZE, drop_remainder=True)"
      ],
      "execution_count": null,
      "outputs": []
    },
    {
      "cell_type": "code",
      "metadata": {
        "id": "8qVczQ_JDIS3",
        "outputId": "f8ff3205-0ceb-44ee-9ac7-1f4c214eea4c",
        "colab": {
          "base_uri": "https://localhost:8080/",
          "height": 34
        }
      },
      "source": [
        "example_input_batch, example_target_batch = next(iter(dataset))\n",
        "example_input_batch.shape, example_target_batch.shape"
      ],
      "execution_count": null,
      "outputs": [
        {
          "output_type": "execute_result",
          "data": {
            "text/plain": [
              "(TensorShape([64, 24]), TensorShape([64, 19]))"
            ]
          },
          "metadata": {
            "tags": []
          },
          "execution_count": 17
        }
      ]
    },
    {
      "cell_type": "code",
      "metadata": {
        "id": "Io3N-UXUDKqu"
      },
      "source": [
        "class Encoder(tf.keras.Model):\n",
        "  def __init__(self, vocab_size, embedding_dim, enc_units, batch_sz):\n",
        "    super(Encoder, self).__init__()\n",
        "    self.batch_sz = batch_sz\n",
        "    self.enc_units = enc_units\n",
        "    self.embedding = tf.keras.layers.Embedding(vocab_size, embedding_dim)\n",
        "    self.gru = tf.keras.layers.GRU(self.enc_units,\n",
        "                                   return_sequences=True,\n",
        "                                   return_state=True,\n",
        "                                   recurrent_initializer='glorot_uniform')\n",
        "\n",
        "  def call(self, x, hidden):\n",
        "    x = self.embedding(x)\n",
        "    output, state = self.gru(x, initial_state = hidden)\n",
        "    return output, state\n",
        "\n",
        "  def initialize_hidden_state(self):\n",
        "    return tf.zeros((self.batch_sz, self.enc_units))"
      ],
      "execution_count": null,
      "outputs": []
    },
    {
      "cell_type": "code",
      "metadata": {
        "id": "zirUCUN_DPCC",
        "outputId": "22e60d80-9023-4445-fb66-70fb21b17afe",
        "colab": {
          "base_uri": "https://localhost:8080/",
          "height": 51
        }
      },
      "source": [
        "encoder = Encoder(vocab_inp_size, embedding_dim, units, BATCH_SIZE)\n",
        "\n",
        "# sample input\n",
        "sample_hidden = encoder.initialize_hidden_state()\n",
        "sample_output, sample_hidden = encoder(example_input_batch, sample_hidden)\n",
        "print ('Encoder output shape: (batch size, sequence length, units) {}'.format(sample_output.shape))\n",
        "print ('Encoder Hidden state shape: (batch size, units) {}'.format(sample_hidden.shape))"
      ],
      "execution_count": null,
      "outputs": [
        {
          "output_type": "stream",
          "text": [
            "Encoder output shape: (batch size, sequence length, units) (64, 24, 1024)\n",
            "Encoder Hidden state shape: (batch size, units) (64, 1024)\n"
          ],
          "name": "stdout"
        }
      ]
    },
    {
      "cell_type": "markdown",
      "metadata": {
        "id": "NpoLTY8Y0GXr"
      },
      "source": [
        "## Bahdanau Attention (Concat Attention)"
      ]
    },
    {
      "cell_type": "code",
      "metadata": {
        "id": "_-EAKm9pDRNL"
      },
      "source": [
        "class BahdanauAttention(tf.keras.layers.Layer):\n",
        "  def __init__(self, units):\n",
        "    super(BahdanauAttention, self).__init__()\n",
        "    self.W1 = tf.keras.layers.Dense(units)\n",
        "    self.W2 = tf.keras.layers.Dense(units)\n",
        "    self.V = tf.keras.layers.Dense(1)\n",
        "\n",
        "  def call(self, query, values):\n",
        "    # query hidden state shape == (batch_size, hidden size)\n",
        "    # query_with_time_axis shape == (batch_size, 1, hidden size)\n",
        "    # values shape == (batch_size, max_len, hidden size)\n",
        "    # we are doing this to broadcast addition along the time axis to calculate the score\n",
        "    query_with_time_axis = tf.expand_dims(query, 1)\n",
        "\n",
        "    # score shape == (batch_size, max_length, 1)\n",
        "    # we get 1 at the last axis because we are applying score to self.V\n",
        "    # the shape of the tensor before applying self.V is (batch_size, max_length, units)\n",
        "    score = self.V(tf.nn.tanh(\n",
        "        self.W1(query_with_time_axis) + self.W2(values)))\n",
        "\n",
        "    # attention_weights shape == (batch_size, max_length, 1)\n",
        "    attention_weights = tf.nn.softmax(score, axis=1)\n",
        "\n",
        "    # context_vector shape after sum == (batch_size, hidden_size)\n",
        "    context_vector = attention_weights * values\n",
        "    context_vector = tf.reduce_sum(context_vector, axis=1)\n",
        "\n",
        "    return context_vector, attention_weights"
      ],
      "execution_count": null,
      "outputs": []
    },
    {
      "cell_type": "code",
      "metadata": {
        "id": "WAnN543zDUH7",
        "outputId": "a58a4cd3-dc43-4731-9808-fa85d613f63e",
        "colab": {
          "base_uri": "https://localhost:8080/",
          "height": 51
        }
      },
      "source": [
        "attention_layer = BahdanauAttention(10)\n",
        "attention_result, attention_weights = attention_layer(sample_hidden, sample_output)\n",
        "\n",
        "print(\"Attention result shape: (batch size, units) {}\".format(attention_result.shape))\n",
        "print(\"Attention weights shape: (batch_size, sequence_length, 1) {}\".format(attention_weights.shape))"
      ],
      "execution_count": null,
      "outputs": [
        {
          "output_type": "stream",
          "text": [
            "Attention result shape: (batch size, units) (64, 1024)\n",
            "Attention weights shape: (batch_size, sequence_length, 1) (64, 24, 1)\n"
          ],
          "name": "stdout"
        }
      ]
    },
    {
      "cell_type": "code",
      "metadata": {
        "id": "_XRgtkJXDXW8"
      },
      "source": [
        "class Decoder(tf.keras.Model):\n",
        "  def __init__(self, vocab_size, embedding_dim, dec_units, batch_sz):\n",
        "    super(Decoder, self).__init__()\n",
        "    self.batch_sz = batch_sz\n",
        "    self.dec_units = dec_units\n",
        "    self.embedding = tf.keras.layers.Embedding(vocab_size, embedding_dim)\n",
        "    self.gru = tf.keras.layers.GRU(self.dec_units,\n",
        "                                   return_sequences=True,\n",
        "                                   return_state=True,\n",
        "                                   recurrent_initializer='glorot_uniform')\n",
        "    self.fc = tf.keras.layers.Dense(vocab_size)\n",
        "\n",
        "    # used for attention\n",
        "    self.attention = BahdanauAttention(self.dec_units)\n",
        "\n",
        "  def call(self, x, hidden, enc_output):\n",
        "    # enc_output shape == (batch_size, max_length, hidden_size)\n",
        "    context_vector, attention_weights = self.attention(hidden, enc_output)\n",
        "\n",
        "    # x shape after passing through embedding == (batch_size, 1, embedding_dim)\n",
        "    x = self.embedding(x)\n",
        "\n",
        "    # x shape after concatenation == (batch_size, 1, embedding_dim + hidden_size)\n",
        "    x = tf.concat([tf.expand_dims(context_vector, 1), x], axis=-1)\n",
        "\n",
        "    # passing the concatenated vector to the GRU\n",
        "    output, state = self.gru(x)\n",
        "\n",
        "    # output shape == (batch_size * 1, hidden_size)\n",
        "    output = tf.reshape(output, (-1, output.shape[2]))\n",
        "\n",
        "    # output shape == (batch_size, vocab)\n",
        "    x = self.fc(output)\n",
        "\n",
        "    return x, state, attention_weights"
      ],
      "execution_count": null,
      "outputs": []
    },
    {
      "cell_type": "code",
      "metadata": {
        "id": "6Og27_sQDrdb",
        "outputId": "bc8da357-48ba-48d4-e490-92ab2ea35a7a",
        "colab": {
          "base_uri": "https://localhost:8080/",
          "height": 34
        }
      },
      "source": [
        "decoder = Decoder(vocab_tar_size, embedding_dim, units, BATCH_SIZE)\n",
        "\n",
        "sample_decoder_output, _, _ = decoder(tf.random.uniform((BATCH_SIZE, 1)),\n",
        "                                      sample_hidden, sample_output)\n",
        "\n",
        "print ('Decoder output shape: (batch_size, vocab size) {}'.format(sample_decoder_output.shape))"
      ],
      "execution_count": null,
      "outputs": [
        {
          "output_type": "stream",
          "text": [
            "Decoder output shape: (batch_size, vocab size) (64, 15307)\n"
          ],
          "name": "stdout"
        }
      ]
    },
    {
      "cell_type": "code",
      "metadata": {
        "id": "qBLatSfTDtXa"
      },
      "source": [
        "optimizer = tf.keras.optimizers.Adam()\n",
        "loss_object = tf.keras.losses.SparseCategoricalCrossentropy(\n",
        "    from_logits=True, reduction='none')\n",
        "\n",
        "def loss_function(real, pred):\n",
        "  mask = tf.math.logical_not(tf.math.equal(real, 0))\n",
        "  loss_ = loss_object(real, pred)\n",
        "\n",
        "  mask = tf.cast(mask, dtype=loss_.dtype)\n",
        "  loss_ *= mask\n",
        "\n",
        "  return tf.reduce_mean(loss_)"
      ],
      "execution_count": null,
      "outputs": []
    },
    {
      "cell_type": "code",
      "metadata": {
        "id": "xrnCzhJwDv5r"
      },
      "source": [
        "checkpoint_dir = './training_checkpoints_bahdanau'\n",
        "checkpoint_prefix = os.path.join(checkpoint_dir, \"ckpt\")\n",
        "checkpoint = tf.train.Checkpoint(optimizer=optimizer,\n",
        "                                 encoder=encoder,\n",
        "                                 decoder=decoder)"
      ],
      "execution_count": null,
      "outputs": []
    },
    {
      "cell_type": "code",
      "metadata": {
        "id": "wylRYa8GD0We"
      },
      "source": [
        "@tf.function\n",
        "def train_step(inp, targ, enc_hidden):\n",
        "  loss = 0\n",
        "\n",
        "  with tf.GradientTape() as tape:\n",
        "    enc_output, enc_hidden = encoder(inp, enc_hidden)\n",
        "\n",
        "    dec_hidden = enc_hidden\n",
        "\n",
        "    dec_input = tf.expand_dims([targ_lang.word_index['<start>']] * BATCH_SIZE, 1)\n",
        "\n",
        "    # Teacher forcing - feeding the target as the next input\n",
        "    for t in range(1, targ.shape[1]):\n",
        "      # passing enc_output to the decoder\n",
        "      predictions, dec_hidden, _ = decoder(dec_input, dec_hidden, enc_output)\n",
        "\n",
        "      loss += loss_function(targ[:, t], predictions)\n",
        "\n",
        "      # using teacher forcing\n",
        "      dec_input = tf.expand_dims(targ[:, t], 1)\n",
        "\n",
        "  batch_loss = (loss / int(targ.shape[1]))\n",
        "\n",
        "  variables = encoder.trainable_variables + decoder.trainable_variables\n",
        "\n",
        "  gradients = tape.gradient(loss, variables)\n",
        "\n",
        "  optimizer.apply_gradients(zip(gradients, variables))\n",
        "\n",
        "  return batch_loss"
      ],
      "execution_count": null,
      "outputs": []
    },
    {
      "cell_type": "code",
      "metadata": {
        "id": "fD73HP4jD3nb",
        "outputId": "44e629f2-f9a8-48ac-b66c-8b33c56116a9",
        "colab": {
          "base_uri": "https://localhost:8080/",
          "height": 1000
        }
      },
      "source": [
        "EPOCHS = 20\n",
        "\n",
        "for epoch in range(EPOCHS):\n",
        "  start = time.time()\n",
        "\n",
        "  enc_hidden = encoder.initialize_hidden_state()\n",
        "  total_loss = 0\n",
        "\n",
        "  for (batch, (inp, targ)) in enumerate(dataset.take(steps_per_epoch)):\n",
        "    batch_loss = train_step(inp, targ, enc_hidden)\n",
        "    total_loss += batch_loss\n",
        "\n",
        "    if batch % 100 == 0:\n",
        "      print('Epoch {} Batch {} Loss {:.4f}'.format(epoch + 1,\n",
        "                                                   batch,\n",
        "                                                   batch_loss.numpy()))\n",
        "  # saving (checkpoint) the model every 2 epochs\n",
        "  if (epoch + 1) % 2 == 0:\n",
        "    checkpoint.save(file_prefix = checkpoint_prefix)\n",
        "\n",
        "  print('Epoch {} Loss {:.4f}'.format(epoch + 1,\n",
        "                                      total_loss / steps_per_epoch))\n",
        "  print('Time taken for 1 epoch {} sec\\n'.format(time.time() - start))"
      ],
      "execution_count": null,
      "outputs": [
        {
          "output_type": "stream",
          "text": [
            "Epoch 1 Batch 0 Loss 4.2317\n",
            "Epoch 1 Batch 100 Loss 2.4494\n",
            "Epoch 1 Batch 200 Loss 2.1759\n",
            "Epoch 1 Batch 300 Loss 1.9603\n",
            "Epoch 1 Batch 400 Loss 1.8501\n",
            "Epoch 1 Batch 500 Loss 1.7423\n",
            "Epoch 1 Batch 600 Loss 1.6586\n",
            "Epoch 1 Batch 700 Loss 1.4759\n",
            "Epoch 1 Batch 800 Loss 1.5027\n",
            "Epoch 1 Batch 900 Loss 1.4602\n",
            "Epoch 1 Batch 1000 Loss 1.4109\n",
            "Epoch 1 Batch 1100 Loss 1.2679\n",
            "Epoch 1 Batch 1200 Loss 1.1311\n",
            "Epoch 1 Batch 1300 Loss 1.2684\n",
            "Epoch 1 Batch 1400 Loss 1.2257\n",
            "Epoch 1 Batch 1500 Loss 1.1819\n",
            "Epoch 1 Batch 1600 Loss 1.1300\n",
            "Epoch 1 Batch 1700 Loss 0.9991\n",
            "Epoch 1 Batch 1800 Loss 1.0233\n",
            "Epoch 1 Loss 1.5278\n",
            "Time taken for 1 epoch 347.5363585948944 sec\n",
            "\n",
            "Epoch 2 Batch 0 Loss 1.0590\n",
            "Epoch 2 Batch 100 Loss 0.8965\n",
            "Epoch 2 Batch 200 Loss 0.9178\n",
            "Epoch 2 Batch 300 Loss 0.9082\n",
            "Epoch 2 Batch 400 Loss 0.8557\n",
            "Epoch 2 Batch 500 Loss 0.7749\n",
            "Epoch 2 Batch 600 Loss 0.7030\n",
            "Epoch 2 Batch 700 Loss 0.7912\n",
            "Epoch 2 Batch 800 Loss 0.8338\n",
            "Epoch 2 Batch 900 Loss 0.7330\n",
            "Epoch 2 Batch 1000 Loss 0.6455\n",
            "Epoch 2 Batch 1100 Loss 0.7126\n",
            "Epoch 2 Batch 1200 Loss 0.7028\n",
            "Epoch 2 Batch 1300 Loss 0.6829\n",
            "Epoch 2 Batch 1400 Loss 0.6375\n",
            "Epoch 2 Batch 1500 Loss 0.7352\n",
            "Epoch 2 Batch 1600 Loss 0.6899\n",
            "Epoch 2 Batch 1700 Loss 0.6919\n",
            "Epoch 2 Batch 1800 Loss 0.5804\n",
            "Epoch 2 Loss 0.7554\n",
            "Time taken for 1 epoch 332.75054359436035 sec\n",
            "\n",
            "Epoch 3 Batch 0 Loss 0.5275\n",
            "Epoch 3 Batch 100 Loss 0.5316\n",
            "Epoch 3 Batch 200 Loss 0.5274\n",
            "Epoch 3 Batch 300 Loss 0.5010\n",
            "Epoch 3 Batch 400 Loss 0.5284\n",
            "Epoch 3 Batch 500 Loss 0.6233\n",
            "Epoch 3 Batch 600 Loss 0.4684\n",
            "Epoch 3 Batch 700 Loss 0.4776\n",
            "Epoch 3 Batch 800 Loss 0.4939\n",
            "Epoch 3 Batch 900 Loss 0.4725\n",
            "Epoch 3 Batch 1000 Loss 0.4160\n",
            "Epoch 3 Batch 1100 Loss 0.5206\n",
            "Epoch 3 Batch 1200 Loss 0.4853\n",
            "Epoch 3 Batch 1300 Loss 0.4030\n",
            "Epoch 3 Batch 1400 Loss 0.3949\n",
            "Epoch 3 Batch 1500 Loss 0.4489\n",
            "Epoch 3 Batch 1600 Loss 0.4476\n",
            "Epoch 3 Batch 1700 Loss 0.4349\n",
            "Epoch 3 Batch 1800 Loss 0.4474\n",
            "Epoch 3 Loss 0.4811\n",
            "Time taken for 1 epoch 330.8938567638397 sec\n",
            "\n",
            "Epoch 4 Batch 0 Loss 0.3996\n",
            "Epoch 4 Batch 100 Loss 0.3183\n",
            "Epoch 4 Batch 200 Loss 0.3367\n",
            "Epoch 4 Batch 300 Loss 0.2652\n",
            "Epoch 4 Batch 400 Loss 0.3865\n",
            "Epoch 4 Batch 500 Loss 0.4073\n",
            "Epoch 4 Batch 600 Loss 0.3788\n",
            "Epoch 4 Batch 700 Loss 0.2921\n",
            "Epoch 4 Batch 800 Loss 0.3724\n",
            "Epoch 4 Batch 900 Loss 0.3081\n",
            "Epoch 4 Batch 1000 Loss 0.2945\n",
            "Epoch 4 Batch 1100 Loss 0.3376\n",
            "Epoch 4 Batch 1200 Loss 0.3684\n",
            "Epoch 4 Batch 1300 Loss 0.3522\n",
            "Epoch 4 Batch 1400 Loss 0.3136\n",
            "Epoch 4 Batch 1500 Loss 0.3318\n",
            "Epoch 4 Batch 1600 Loss 0.3014\n",
            "Epoch 4 Batch 1700 Loss 0.3032\n",
            "Epoch 4 Batch 1800 Loss 0.3019\n",
            "Epoch 4 Loss 0.3360\n",
            "Time taken for 1 epoch 331.2087152004242 sec\n",
            "\n",
            "Epoch 5 Batch 0 Loss 0.2604\n",
            "Epoch 5 Batch 100 Loss 0.3217\n",
            "Epoch 5 Batch 200 Loss 0.2830\n",
            "Epoch 5 Batch 300 Loss 0.2308\n",
            "Epoch 5 Batch 400 Loss 0.2048\n",
            "Epoch 5 Batch 500 Loss 0.3137\n",
            "Epoch 5 Batch 600 Loss 0.3047\n",
            "Epoch 5 Batch 700 Loss 0.2463\n",
            "Epoch 5 Batch 800 Loss 0.2135\n",
            "Epoch 5 Batch 900 Loss 0.2923\n",
            "Epoch 5 Batch 1000 Loss 0.2396\n",
            "Epoch 5 Batch 1100 Loss 0.2103\n",
            "Epoch 5 Batch 1200 Loss 0.2223\n",
            "Epoch 5 Batch 1300 Loss 0.2653\n",
            "Epoch 5 Batch 1400 Loss 0.2360\n",
            "Epoch 5 Batch 1500 Loss 0.2298\n",
            "Epoch 5 Batch 1600 Loss 0.2606\n",
            "Epoch 5 Batch 1700 Loss 0.2527\n",
            "Epoch 5 Batch 1800 Loss 0.2506\n",
            "Epoch 5 Loss 0.2457\n",
            "Time taken for 1 epoch 330.8142943382263 sec\n",
            "\n",
            "Epoch 6 Batch 0 Loss 0.1737\n",
            "Epoch 6 Batch 100 Loss 0.2018\n",
            "Epoch 6 Batch 200 Loss 0.1737\n",
            "Epoch 6 Batch 300 Loss 0.1703\n",
            "Epoch 6 Batch 400 Loss 0.1955\n",
            "Epoch 6 Batch 500 Loss 0.1859\n",
            "Epoch 6 Batch 600 Loss 0.1166\n",
            "Epoch 6 Batch 700 Loss 0.1875\n",
            "Epoch 6 Batch 800 Loss 0.1774\n",
            "Epoch 6 Batch 900 Loss 0.1625\n",
            "Epoch 6 Batch 1000 Loss 0.1859\n",
            "Epoch 6 Batch 1100 Loss 0.1739\n",
            "Epoch 6 Batch 1200 Loss 0.1538\n",
            "Epoch 6 Batch 1300 Loss 0.1703\n",
            "Epoch 6 Batch 1400 Loss 0.1751\n",
            "Epoch 6 Batch 1500 Loss 0.1502\n",
            "Epoch 6 Batch 1600 Loss 0.1616\n",
            "Epoch 6 Batch 1700 Loss 0.2068\n",
            "Epoch 6 Batch 1800 Loss 0.1959\n",
            "Epoch 6 Loss 0.1860\n",
            "Time taken for 1 epoch 332.9165642261505 sec\n",
            "\n",
            "Epoch 7 Batch 0 Loss 0.1501\n",
            "Epoch 7 Batch 100 Loss 0.1620\n",
            "Epoch 7 Batch 200 Loss 0.1425\n",
            "Epoch 7 Batch 300 Loss 0.1586\n",
            "Epoch 7 Batch 400 Loss 0.1038\n",
            "Epoch 7 Batch 500 Loss 0.1316\n",
            "Epoch 7 Batch 600 Loss 0.1452\n",
            "Epoch 7 Batch 700 Loss 0.1877\n",
            "Epoch 7 Batch 800 Loss 0.1656\n",
            "Epoch 7 Batch 900 Loss 0.1445\n",
            "Epoch 7 Batch 1000 Loss 0.1680\n",
            "Epoch 7 Batch 1100 Loss 0.1253\n",
            "Epoch 7 Batch 1200 Loss 0.1281\n",
            "Epoch 7 Batch 1300 Loss 0.1507\n",
            "Epoch 7 Batch 1400 Loss 0.1104\n",
            "Epoch 7 Batch 1500 Loss 0.1377\n",
            "Epoch 7 Batch 1600 Loss 0.1574\n",
            "Epoch 7 Batch 1700 Loss 0.1162\n",
            "Epoch 7 Batch 1800 Loss 0.1390\n",
            "Epoch 7 Loss 0.1445\n",
            "Time taken for 1 epoch 330.226496219635 sec\n",
            "\n",
            "Epoch 8 Batch 0 Loss 0.0989\n",
            "Epoch 8 Batch 100 Loss 0.1002\n",
            "Epoch 8 Batch 200 Loss 0.1442\n",
            "Epoch 8 Batch 300 Loss 0.1091\n",
            "Epoch 8 Batch 400 Loss 0.0960\n",
            "Epoch 8 Batch 500 Loss 0.1218\n",
            "Epoch 8 Batch 600 Loss 0.0928\n",
            "Epoch 8 Batch 700 Loss 0.1283\n",
            "Epoch 8 Batch 800 Loss 0.1084\n",
            "Epoch 8 Batch 900 Loss 0.1334\n",
            "Epoch 8 Batch 1000 Loss 0.1285\n",
            "Epoch 8 Batch 1100 Loss 0.1933\n",
            "Epoch 8 Batch 1200 Loss 0.0935\n",
            "Epoch 8 Batch 1300 Loss 0.1082\n",
            "Epoch 8 Batch 1400 Loss 0.0880\n",
            "Epoch 8 Batch 1500 Loss 0.1128\n",
            "Epoch 8 Batch 1600 Loss 0.1039\n",
            "Epoch 8 Batch 1700 Loss 0.1076\n",
            "Epoch 8 Batch 1800 Loss 0.1388\n",
            "Epoch 8 Loss 0.1170\n",
            "Time taken for 1 epoch 331.914870262146 sec\n",
            "\n",
            "Epoch 9 Batch 0 Loss 0.0982\n",
            "Epoch 9 Batch 100 Loss 0.1081\n",
            "Epoch 9 Batch 200 Loss 0.0629\n",
            "Epoch 9 Batch 300 Loss 0.0962\n",
            "Epoch 9 Batch 400 Loss 0.0983\n",
            "Epoch 9 Batch 500 Loss 0.0752\n",
            "Epoch 9 Batch 600 Loss 0.1046\n",
            "Epoch 9 Batch 700 Loss 0.1154\n",
            "Epoch 9 Batch 800 Loss 0.0951\n",
            "Epoch 9 Batch 900 Loss 0.1013\n",
            "Epoch 9 Batch 1000 Loss 0.1239\n",
            "Epoch 9 Batch 1100 Loss 0.0812\n",
            "Epoch 9 Batch 1200 Loss 0.0663\n",
            "Epoch 9 Batch 1300 Loss 0.1002\n",
            "Epoch 9 Batch 1400 Loss 0.0726\n",
            "Epoch 9 Batch 1500 Loss 0.1243\n",
            "Epoch 9 Batch 1600 Loss 0.0992\n",
            "Epoch 9 Batch 1700 Loss 0.0831\n",
            "Epoch 9 Batch 1800 Loss 0.1302\n",
            "Epoch 9 Loss 0.0979\n",
            "Time taken for 1 epoch 329.770809173584 sec\n",
            "\n",
            "Epoch 10 Batch 0 Loss 0.0999\n",
            "Epoch 10 Batch 100 Loss 0.0866\n",
            "Epoch 10 Batch 200 Loss 0.0679\n",
            "Epoch 10 Batch 300 Loss 0.0804\n",
            "Epoch 10 Batch 400 Loss 0.0872\n",
            "Epoch 10 Batch 500 Loss 0.0780\n",
            "Epoch 10 Batch 600 Loss 0.1116\n",
            "Epoch 10 Batch 700 Loss 0.0962\n",
            "Epoch 10 Batch 800 Loss 0.0768\n",
            "Epoch 10 Batch 900 Loss 0.0965\n",
            "Epoch 10 Batch 1000 Loss 0.0800\n",
            "Epoch 10 Batch 1100 Loss 0.0879\n",
            "Epoch 10 Batch 1200 Loss 0.1023\n",
            "Epoch 10 Batch 1300 Loss 0.0777\n",
            "Epoch 10 Batch 1400 Loss 0.0784\n",
            "Epoch 10 Batch 1500 Loss 0.0846\n",
            "Epoch 10 Batch 1600 Loss 0.1035\n",
            "Epoch 10 Batch 1700 Loss 0.0950\n",
            "Epoch 10 Batch 1800 Loss 0.0771\n",
            "Epoch 10 Loss 0.0842\n",
            "Time taken for 1 epoch 331.8004472255707 sec\n",
            "\n",
            "Epoch 11 Batch 0 Loss 0.0849\n",
            "Epoch 11 Batch 100 Loss 0.0675\n",
            "Epoch 11 Batch 200 Loss 0.0694\n",
            "Epoch 11 Batch 300 Loss 0.0934\n",
            "Epoch 11 Batch 400 Loss 0.0636\n",
            "Epoch 11 Batch 500 Loss 0.0635\n",
            "Epoch 11 Batch 600 Loss 0.0930\n",
            "Epoch 11 Batch 700 Loss 0.0753\n",
            "Epoch 11 Batch 800 Loss 0.0626\n",
            "Epoch 11 Batch 900 Loss 0.0732\n",
            "Epoch 11 Batch 1000 Loss 0.0948\n",
            "Epoch 11 Batch 1100 Loss 0.0686\n",
            "Epoch 11 Batch 1200 Loss 0.0679\n",
            "Epoch 11 Batch 1300 Loss 0.0593\n",
            "Epoch 11 Batch 1400 Loss 0.0676\n",
            "Epoch 11 Batch 1500 Loss 0.0792\n",
            "Epoch 11 Batch 1600 Loss 0.0550\n",
            "Epoch 11 Batch 1700 Loss 0.0911\n",
            "Epoch 11 Batch 1800 Loss 0.0810\n",
            "Epoch 11 Loss 0.0740\n",
            "Time taken for 1 epoch 329.7106010913849 sec\n",
            "\n",
            "Epoch 12 Batch 0 Loss 0.0694\n",
            "Epoch 12 Batch 100 Loss 0.0658\n",
            "Epoch 12 Batch 200 Loss 0.0571\n",
            "Epoch 12 Batch 300 Loss 0.0535\n",
            "Epoch 12 Batch 400 Loss 0.0626\n",
            "Epoch 12 Batch 500 Loss 0.0621\n",
            "Epoch 12 Batch 600 Loss 0.0450\n",
            "Epoch 12 Batch 700 Loss 0.0736\n",
            "Epoch 12 Batch 800 Loss 0.0513\n",
            "Epoch 12 Batch 900 Loss 0.0651\n",
            "Epoch 12 Batch 1000 Loss 0.0498\n",
            "Epoch 12 Batch 1100 Loss 0.0574\n",
            "Epoch 12 Batch 1200 Loss 0.0721\n",
            "Epoch 12 Batch 1300 Loss 0.0677\n",
            "Epoch 12 Batch 1400 Loss 0.0593\n",
            "Epoch 12 Batch 1500 Loss 0.0564\n",
            "Epoch 12 Batch 1600 Loss 0.0768\n",
            "Epoch 12 Batch 1700 Loss 0.0623\n",
            "Epoch 12 Batch 1800 Loss 0.0674\n",
            "Epoch 12 Loss 0.0682\n",
            "Time taken for 1 epoch 331.48556184768677 sec\n",
            "\n",
            "Epoch 13 Batch 0 Loss 0.0558\n",
            "Epoch 13 Batch 100 Loss 0.0584\n",
            "Epoch 13 Batch 200 Loss 0.0417\n",
            "Epoch 13 Batch 300 Loss 0.0622\n",
            "Epoch 13 Batch 400 Loss 0.0483\n",
            "Epoch 13 Batch 500 Loss 0.0416\n",
            "Epoch 13 Batch 600 Loss 0.0553\n",
            "Epoch 13 Batch 700 Loss 0.0513\n",
            "Epoch 13 Batch 800 Loss 0.0576\n",
            "Epoch 13 Batch 900 Loss 0.0433\n",
            "Epoch 13 Batch 1000 Loss 0.0603\n",
            "Epoch 13 Batch 1100 Loss 0.0671\n",
            "Epoch 13 Batch 1200 Loss 0.0612\n",
            "Epoch 13 Batch 1300 Loss 0.0523\n",
            "Epoch 13 Batch 1400 Loss 0.0485\n",
            "Epoch 13 Batch 1500 Loss 0.0716\n",
            "Epoch 13 Batch 1600 Loss 0.0821\n",
            "Epoch 13 Batch 1700 Loss 0.0773\n",
            "Epoch 13 Batch 1800 Loss 0.0728\n",
            "Epoch 13 Loss 0.0626\n",
            "Time taken for 1 epoch 330.3647766113281 sec\n",
            "\n",
            "Epoch 14 Batch 0 Loss 0.0410\n",
            "Epoch 14 Batch 100 Loss 0.0828\n",
            "Epoch 14 Batch 200 Loss 0.0505\n",
            "Epoch 14 Batch 300 Loss 0.0851\n",
            "Epoch 14 Batch 400 Loss 0.0709\n",
            "Epoch 14 Batch 500 Loss 0.0637\n",
            "Epoch 14 Batch 600 Loss 0.0741\n",
            "Epoch 14 Batch 700 Loss 0.0768\n",
            "Epoch 14 Batch 800 Loss 0.0470\n",
            "Epoch 14 Batch 900 Loss 0.0556\n",
            "Epoch 14 Batch 1000 Loss 0.0608\n",
            "Epoch 14 Batch 1100 Loss 0.0491\n",
            "Epoch 14 Batch 1200 Loss 0.0639\n",
            "Epoch 14 Batch 1300 Loss 0.0750\n",
            "Epoch 14 Batch 1400 Loss 0.0597\n",
            "Epoch 14 Batch 1500 Loss 0.0554\n",
            "Epoch 14 Batch 1600 Loss 0.0524\n",
            "Epoch 14 Batch 1700 Loss 0.0554\n",
            "Epoch 14 Batch 1800 Loss 0.0798\n",
            "Epoch 14 Loss 0.0597\n",
            "Time taken for 1 epoch 332.01197719573975 sec\n",
            "\n",
            "Epoch 15 Batch 0 Loss 0.0830\n",
            "Epoch 15 Batch 100 Loss 0.0544\n",
            "Epoch 15 Batch 200 Loss 0.0639\n",
            "Epoch 15 Batch 300 Loss 0.0365\n",
            "Epoch 15 Batch 400 Loss 0.0657\n",
            "Epoch 15 Batch 500 Loss 0.0467\n",
            "Epoch 15 Batch 600 Loss 0.0405\n",
            "Epoch 15 Batch 700 Loss 0.0400\n",
            "Epoch 15 Batch 800 Loss 0.0393\n",
            "Epoch 15 Batch 900 Loss 0.0647\n",
            "Epoch 15 Batch 1000 Loss 0.0710\n",
            "Epoch 15 Batch 1100 Loss 0.0498\n",
            "Epoch 15 Batch 1200 Loss 0.0767\n",
            "Epoch 15 Batch 1300 Loss 0.0615\n",
            "Epoch 15 Batch 1400 Loss 0.0653\n",
            "Epoch 15 Batch 1500 Loss 0.0607\n",
            "Epoch 15 Batch 1600 Loss 0.0711\n",
            "Epoch 15 Batch 1700 Loss 0.0781\n",
            "Epoch 15 Batch 1800 Loss 0.0616\n",
            "Epoch 15 Loss 0.0574\n",
            "Time taken for 1 epoch 330.49717140197754 sec\n",
            "\n",
            "Epoch 16 Batch 0 Loss 0.0359\n",
            "Epoch 16 Batch 100 Loss 0.0457\n",
            "Epoch 16 Batch 200 Loss 0.0383\n",
            "Epoch 16 Batch 300 Loss 0.0857\n",
            "Epoch 16 Batch 400 Loss 0.0552\n",
            "Epoch 16 Batch 500 Loss 0.0386\n",
            "Epoch 16 Batch 600 Loss 0.0641\n",
            "Epoch 16 Batch 700 Loss 0.0580\n",
            "Epoch 16 Batch 800 Loss 0.0431\n",
            "Epoch 16 Batch 900 Loss 0.0654\n",
            "Epoch 16 Batch 1000 Loss 0.0620\n",
            "Epoch 16 Batch 1100 Loss 0.0899\n",
            "Epoch 16 Batch 1200 Loss 0.0567\n",
            "Epoch 16 Batch 1300 Loss 0.0525\n",
            "Epoch 16 Batch 1400 Loss 0.0452\n",
            "Epoch 16 Batch 1500 Loss 0.0573\n",
            "Epoch 16 Batch 1600 Loss 0.0683\n",
            "Epoch 16 Batch 1700 Loss 0.0578\n",
            "Epoch 16 Batch 1800 Loss 0.0597\n",
            "Epoch 16 Loss 0.0592\n",
            "Time taken for 1 epoch 331.86760807037354 sec\n",
            "\n",
            "Epoch 17 Batch 0 Loss 0.0500\n",
            "Epoch 17 Batch 100 Loss 0.0465\n",
            "Epoch 17 Batch 200 Loss 0.0394\n",
            "Epoch 17 Batch 300 Loss 0.0416\n",
            "Epoch 17 Batch 400 Loss 0.0522\n",
            "Epoch 17 Batch 500 Loss 0.0475\n",
            "Epoch 17 Batch 600 Loss 0.0448\n",
            "Epoch 17 Batch 700 Loss 0.0623\n",
            "Epoch 17 Batch 800 Loss 0.0637\n",
            "Epoch 17 Batch 900 Loss 0.0397\n",
            "Epoch 17 Batch 1000 Loss 0.0520\n",
            "Epoch 17 Batch 1100 Loss 0.0558\n",
            "Epoch 17 Batch 1200 Loss 0.0560\n",
            "Epoch 17 Batch 1300 Loss 0.0470\n",
            "Epoch 17 Batch 1400 Loss 0.0540\n",
            "Epoch 17 Batch 1500 Loss 0.0639\n",
            "Epoch 17 Batch 1600 Loss 0.0535\n",
            "Epoch 17 Batch 1700 Loss 0.0394\n",
            "Epoch 17 Batch 1800 Loss 0.0483\n",
            "Epoch 17 Loss 0.0511\n",
            "Time taken for 1 epoch 331.0297474861145 sec\n",
            "\n",
            "Epoch 18 Batch 0 Loss 0.0340\n",
            "Epoch 18 Batch 100 Loss 0.0444\n",
            "Epoch 18 Batch 200 Loss 0.0648\n",
            "Epoch 18 Batch 300 Loss 0.0504\n",
            "Epoch 18 Batch 400 Loss 0.0548\n",
            "Epoch 18 Batch 500 Loss 0.0676\n",
            "Epoch 18 Batch 600 Loss 0.0410\n",
            "Epoch 18 Batch 700 Loss 0.0339\n",
            "Epoch 18 Batch 800 Loss 0.0465\n",
            "Epoch 18 Batch 900 Loss 0.0569\n",
            "Epoch 18 Batch 1000 Loss 0.0642\n",
            "Epoch 18 Batch 1100 Loss 0.0515\n",
            "Epoch 18 Batch 1200 Loss 0.0651\n",
            "Epoch 18 Batch 1300 Loss 0.0582\n",
            "Epoch 18 Batch 1400 Loss 0.0916\n",
            "Epoch 18 Batch 1500 Loss 0.0410\n",
            "Epoch 18 Batch 1600 Loss 0.0451\n",
            "Epoch 18 Batch 1700 Loss 0.0608\n",
            "Epoch 18 Batch 1800 Loss 0.0359\n",
            "Epoch 18 Loss 0.0504\n",
            "Time taken for 1 epoch 333.36872243881226 sec\n",
            "\n",
            "Epoch 19 Batch 0 Loss 0.0461\n",
            "Epoch 19 Batch 100 Loss 0.0585\n",
            "Epoch 19 Batch 200 Loss 0.0530\n",
            "Epoch 19 Batch 300 Loss 0.0449\n",
            "Epoch 19 Batch 400 Loss 0.0652\n",
            "Epoch 19 Batch 500 Loss 0.0605\n",
            "Epoch 19 Batch 600 Loss 0.0504\n",
            "Epoch 19 Batch 700 Loss 0.0308\n",
            "Epoch 19 Batch 800 Loss 0.0546\n",
            "Epoch 19 Batch 900 Loss 0.0229\n",
            "Epoch 19 Batch 1000 Loss 0.0656\n",
            "Epoch 19 Batch 1100 Loss 0.0629\n",
            "Epoch 19 Batch 1200 Loss 0.0608\n",
            "Epoch 19 Batch 1300 Loss 0.0689\n",
            "Epoch 19 Batch 1400 Loss 0.0359\n",
            "Epoch 19 Batch 1500 Loss 0.0477\n",
            "Epoch 19 Batch 1600 Loss 0.0654\n",
            "Epoch 19 Batch 1700 Loss 0.0522\n",
            "Epoch 19 Batch 1800 Loss 0.0414\n",
            "Epoch 19 Loss 0.0523\n",
            "Time taken for 1 epoch 330.3242781162262 sec\n",
            "\n",
            "Epoch 20 Batch 0 Loss 0.0542\n",
            "Epoch 20 Batch 100 Loss 0.0668\n",
            "Epoch 20 Batch 200 Loss 0.0485\n",
            "Epoch 20 Batch 300 Loss 0.0531\n",
            "Epoch 20 Batch 400 Loss 0.0769\n",
            "Epoch 20 Batch 500 Loss 0.0388\n",
            "Epoch 20 Batch 600 Loss 0.0394\n",
            "Epoch 20 Batch 700 Loss 0.0327\n",
            "Epoch 20 Batch 800 Loss 0.0634\n",
            "Epoch 20 Batch 900 Loss 0.0472\n",
            "Epoch 20 Batch 1000 Loss 0.0435\n",
            "Epoch 20 Batch 1100 Loss 0.0354\n",
            "Epoch 20 Batch 1200 Loss 0.0284\n",
            "Epoch 20 Batch 1300 Loss 0.0484\n",
            "Epoch 20 Batch 1400 Loss 0.0570\n",
            "Epoch 20 Batch 1500 Loss 0.0569\n",
            "Epoch 20 Batch 1600 Loss 0.0564\n",
            "Epoch 20 Batch 1700 Loss 0.0398\n",
            "Epoch 20 Batch 1800 Loss 0.0511\n",
            "Epoch 20 Loss 0.0486\n",
            "Time taken for 1 epoch 331.8738257884979 sec\n",
            "\n"
          ],
          "name": "stdout"
        }
      ]
    },
    {
      "cell_type": "code",
      "metadata": {
        "id": "0skQRFPWD8UB"
      },
      "source": [
        "def evaluate(sentence):\n",
        "  attention_plot = np.zeros((max_length_targ, max_length_inp))\n",
        "\n",
        "  print(sentence)\n",
        "  sentence = preprocess_sentence(sentence)\n",
        "  print(sentence)\n",
        "\n",
        "  inputs = [inp_lang.word_index[i] for i in sentence.split(' ')]\n",
        "  inputs = tf.keras.preprocessing.sequence.pad_sequences([inputs],\n",
        "                                                         maxlen=max_length_inp,\n",
        "                                                         padding='post')\n",
        "  inputs = tf.convert_to_tensor(inputs)\n",
        "\n",
        "  result = ''\n",
        "\n",
        "  hidden = [tf.zeros((1, units))]\n",
        "  enc_out, enc_hidden = encoder(inputs, hidden)\n",
        "\n",
        "  dec_hidden = enc_hidden\n",
        "  dec_input = tf.expand_dims([targ_lang.word_index['<start>']], 0)\n",
        "\n",
        "  for t in range(max_length_targ):\n",
        "    predictions, dec_hidden, attention_weights = decoder(dec_input,\n",
        "                                                         dec_hidden,\n",
        "                                                         enc_out)\n",
        "\n",
        "    # storing the attention weights to plot later on\n",
        "    attention_weights = tf.reshape(attention_weights, (-1, ))\n",
        "    attention_plot[t] = attention_weights.numpy()\n",
        "\n",
        "    predicted_id = tf.argmax(predictions[0]).numpy()\n",
        "\n",
        "    result += targ_lang.index_word[predicted_id] + ' '\n",
        "\n",
        "    if targ_lang.index_word[predicted_id] == '<end>':\n",
        "      return result, sentence, attention_plot\n",
        "\n",
        "    # the predicted ID is fed back into the model\n",
        "    dec_input = tf.expand_dims([predicted_id], 0)\n",
        "\n",
        "  return result, sentence, attention_plot"
      ],
      "execution_count": null,
      "outputs": []
    },
    {
      "cell_type": "code",
      "metadata": {
        "id": "VJ_gqf6NEDdO"
      },
      "source": [
        "# function for plotting the attention weights\n",
        "def plot_attention(attention, sentence, predicted_sentence):\n",
        "  fig = plt.figure(figsize=(10,10))\n",
        "  ax = fig.add_subplot(1, 1, 1)\n",
        "  ax.matshow(attention, cmap='viridis', clim=[0,1])\n",
        "\n",
        "  fontdict = {'fontsize': 14}\n",
        "\n",
        "  ax.set_xticklabels([''] + sentence, fontdict=fontdict, rotation=90)\n",
        "  ax.set_yticklabels([''] + predicted_sentence, fontdict=fontdict)\n",
        "\n",
        "  ax.xaxis.set_major_locator(ticker.MultipleLocator(1))\n",
        "  ax.yaxis.set_major_locator(ticker.MultipleLocator(1))\n",
        "\n",
        "  plt.show()"
      ],
      "execution_count": null,
      "outputs": []
    },
    {
      "cell_type": "code",
      "metadata": {
        "id": "d2-DcdRJEFh-"
      },
      "source": [
        "def translate(sentence):\n",
        "  result, sentence, attention_plot = evaluate(sentence)\n",
        "\n",
        "  print('Input: %s' % (sentence))\n",
        "  print('Predicted translation: {}'.format(result))\n",
        "\n",
        "  attention_plot = attention_plot[:len(result.split(' ')), :len(sentence.split(' '))]\n",
        "  plot_attention(attention_plot, sentence.split(' '), result.split(' '))"
      ],
      "execution_count": null,
      "outputs": []
    },
    {
      "cell_type": "code",
      "metadata": {
        "id": "ipJRcxNDF-cy",
        "outputId": "fdab79cf-6dbc-41de-f121-0233276f4e40",
        "colab": {
          "base_uri": "https://localhost:8080/",
          "height": 34
        }
      },
      "source": [
        "# restoring the latest checkpoint in checkpoint_dir\n",
        "checkpoint.restore(tf.train.latest_checkpoint(checkpoint_dir))"
      ],
      "execution_count": null,
      "outputs": [
        {
          "output_type": "execute_result",
          "data": {
            "text/plain": [
              "<tensorflow.python.training.tracking.util.CheckpointLoadStatus at 0x7f4d679384e0>"
            ]
          },
          "metadata": {
            "tags": []
          },
          "execution_count": 44
        }
      ]
    },
    {
      "cell_type": "code",
      "metadata": {
        "id": "Mrb1ah8mGItB",
        "outputId": "40af66e8-ab1f-4313-b025-1af593bebbc1",
        "colab": {
          "base_uri": "https://localhost:8080/",
          "height": 719
        }
      },
      "source": [
        "translate(u'Die Insel ist mit dem Boot leicht zu erreichen.')"
      ],
      "execution_count": null,
      "outputs": [
        {
          "output_type": "stream",
          "text": [
            "Die Insel ist mit dem Boot leicht zu erreichen.\n",
            "<start> Die Insel ist mit dem Boot leicht zu erreichen . <end>\n",
            "Input: <start> Die Insel ist mit dem Boot leicht zu erreichen . <end>\n",
            "Predicted translation: The island is easy to get to the boat . <end> \n"
          ],
          "name": "stdout"
        },
        {
          "output_type": "display_data",
          "data": {
            "image/png": "[encoded data removed]",
            "text/plain": [
              "<Figure size 720x720 with 1 Axes>"
            ]
          },
          "metadata": {
            "tags": [],
            "needs_background": "light"
          }
        }
      ]
    },
    {
      "cell_type": "code",
      "metadata": {
        "id": "k_Gk3IGkGntE",
        "outputId": "a8c87ca3-ba92-4836-f120-f526715a6d03",
        "colab": {
          "base_uri": "https://localhost:8080/",
          "height": 715
        }
      },
      "source": [
        "translate(u'Der Mann verliebte sich auf den ersten Blick.')"
      ],
      "execution_count": null,
      "outputs": [
        {
          "output_type": "stream",
          "text": [
            "Der Mann verliebte sich auf den ersten Blick.\n",
            "<start> Der Mann verliebte sich auf den ersten Blick . <end>\n",
            "Input: <start> Der Mann verliebte sich auf den ersten Blick . <end>\n",
            "Predicted translation: The man fell in love at first sight . <end> \n"
          ],
          "name": "stdout"
        },
        {
          "output_type": "display_data",
          "data": {
            "image/png": "[encoded data removed]",
            "text/plain": [
              "<Figure size 720x720 with 1 Axes>"
            ]
          },
          "metadata": {
            "tags": [],
            "needs_background": "light"
          }
        }
      ]
    },
    {
      "cell_type": "code",
      "metadata": {
        "id": "XsTmxvMskijr",
        "outputId": "4c2ceb4c-90ab-4d38-a7f6-fa37e2822a3f",
        "colab": {
          "base_uri": "https://localhost:8080/",
          "height": 724
        }
      },
      "source": [
        "translate(u'Die Regel gilt nur für Ausländer.')"
      ],
      "execution_count": null,
      "outputs": [
        {
          "output_type": "stream",
          "text": [
            "Die Regel gilt nur für Ausländer.\n",
            "<start> Die Regel gilt nur für Ausländer . <end>\n",
            "Input: <start> Die Regel gilt nur für Ausländer . <end>\n",
            "Predicted translation: The rule only applies to foreigners . <end> \n"
          ],
          "name": "stdout"
        },
        {
          "output_type": "display_data",
          "data": {
            "image/png": "[encoded data removed]",
            "text/plain": [
              "<Figure size 720x720 with 1 Axes>"
            ]
          },
          "metadata": {
            "tags": [],
            "needs_background": "light"
          }
        }
      ]
    },
    {
      "cell_type": "code",
      "metadata": {
        "id": "a1Z5hTJmGCsY",
        "outputId": "c9ae5104-210b-4e9c-fa3e-793864a199a6",
        "colab": {
          "base_uri": "https://localhost:8080/",
          "height": 726
        }
      },
      "source": [
        "translate(u'Wir werden wahrscheinlich vor Einbruch der Dunkelheit dort ankommen.')"
      ],
      "execution_count": null,
      "outputs": [
        {
          "output_type": "stream",
          "text": [
            "Wir werden wahrscheinlich vor Einbruch der Dunkelheit dort ankommen.\n",
            "<start> Wir werden wahrscheinlich vor Einbruch der Dunkelheit dort ankommen . <end>\n",
            "Input: <start> Wir werden wahrscheinlich vor Einbruch der Dunkelheit dort ankommen . <end>\n",
            "Predicted translation: We are likely to get there before dark . <end> \n"
          ],
          "name": "stdout"
        },
        {
          "output_type": "display_data",
          "data": {
            "image/png": "[encoded data removed]",
            "text/plain": [
              "<Figure size 720x720 with 1 Axes>"
            ]
          },
          "metadata": {
            "tags": [],
            "needs_background": "light"
          }
        }
      ]
    },
    {
      "cell_type": "code",
      "metadata": {
        "id": "8vCLrt2ulWpP",
        "outputId": "35be4159-2231-4868-f64a-9afc554105bf",
        "colab": {
          "base_uri": "https://localhost:8080/",
          "height": 727
        }
      },
      "source": [
        "translate(u'Es besteht kein Zweifel an seiner Ehrlichkeit.')"
      ],
      "execution_count": null,
      "outputs": [
        {
          "output_type": "stream",
          "text": [
            "Es besteht kein Zweifel an seiner Ehrlichkeit.\n",
            "<start> Es besteht kein Zweifel an seiner Ehrlichkeit . <end>\n",
            "Input: <start> Es besteht kein Zweifel an seiner Ehrlichkeit . <end>\n",
            "Predicted translation: There is no doubt of his honesty . <end> \n"
          ],
          "name": "stdout"
        },
        {
          "output_type": "display_data",
          "data": {
            "image/png": "[encoded data removed]",
            "text/plain": [
              "<Figure size 720x720 with 1 Axes>"
            ]
          },
          "metadata": {
            "tags": [],
            "needs_background": "light"
          }
        }
      ]
    },
    {
      "cell_type": "markdown",
      "metadata": {
        "id": "fApDes-mz0Ec"
      },
      "source": [
        "## Luong Multiplicative Style Attention (General Attention)"
      ]
    },
    {
      "cell_type": "code",
      "metadata": {
        "id": "j50O0rx1DNML"
      },
      "source": [
        "class LuongMultiplicativeAttention(tf.keras.layers.Layer):\n",
        "  def __init__(self, units):\n",
        "    super(LuongMultiplicativeAttention, self).__init__()\n",
        "    self.Wa = tf.keras.layers.Dense(units)\n",
        "\n",
        "  def call(self, query, values):\n",
        "    # Dot score: h_t (dot) Wa (dot) h_s\n",
        "    query_with_time_axis = tf.expand_dims(query, 1)\n",
        "    temp = self.Wa(values)\n",
        "\n",
        "    score = tf.matmul(temp, query_with_time_axis, transpose_b=True)\n",
        "    #score = query_with_time_axis * temp\n",
        "\n",
        "    attention_weights = tf.nn.softmax(score, axis=1)\n",
        "\n",
        "    context_vector = attention_weights * values\n",
        "    context_vector = tf.reduce_sum(context_vector, axis=1)\n",
        "    \n",
        "    return context_vector, attention_weights"
      ],
      "execution_count": null,
      "outputs": []
    },
    {
      "cell_type": "code",
      "metadata": {
        "id": "USqZioj5zyCV",
        "outputId": "c05cb3d3-43c5-4e39-f379-2f374c9aa035",
        "colab": {
          "base_uri": "https://localhost:8080/",
          "height": 51
        }
      },
      "source": [
        "attention_layer = LuongMultiplicativeAttention(1024)\n",
        "attention_result, attention_weights = attention_layer(sample_hidden, sample_output)\n",
        "\n",
        "print(\"Attention result shape: (batch size, units) {}\".format(attention_result.shape))\n",
        "print(\"Attention weights shape: (batch_size, sequence_length, 1) {}\".format(attention_weights.shape))"
      ],
      "execution_count": null,
      "outputs": [
        {
          "output_type": "stream",
          "text": [
            "Attention result shape: (batch size, units) (64, 1024)\n",
            "Attention weights shape: (batch_size, sequence_length, 1) (64, 24, 1)\n"
          ],
          "name": "stdout"
        }
      ]
    },
    {
      "cell_type": "code",
      "metadata": {
        "id": "8H-i-TV60fOz"
      },
      "source": [
        "class Decoder(tf.keras.Model):\n",
        "  def __init__(self, vocab_size, embedding_dim, dec_units, batch_sz):\n",
        "    super(Decoder, self).__init__()\n",
        "    self.batch_sz = batch_sz\n",
        "    self.dec_units = dec_units\n",
        "    self.embedding = tf.keras.layers.Embedding(vocab_size, embedding_dim)\n",
        "    self.gru = tf.keras.layers.GRU(self.dec_units,\n",
        "                                   return_sequences=True,\n",
        "                                   return_state=True,\n",
        "                                   recurrent_initializer='glorot_uniform')\n",
        "    self.fc = tf.keras.layers.Dense(vocab_size)\n",
        "\n",
        "    # used for attention\n",
        "    self.attention = LuongMultiplicativeAttention(self.dec_units)\n",
        "\n",
        "  def call(self, x, hidden, enc_output):\n",
        "    # enc_output shape == (batch_size, max_length, hidden_size)\n",
        "    context_vector, attention_weights = self.attention(hidden, enc_output)\n",
        "\n",
        "    # x shape after passing through embedding == (batch_size, 1, embedding_dim)\n",
        "    x = self.embedding(x)\n",
        "\n",
        "    # x shape after concatenation == (batch_size, 1, embedding_dim + hidden_size)\n",
        "    x = tf.concat([tf.expand_dims(context_vector, 1), x], axis=-1)\n",
        "\n",
        "    # passing the concatenated vector to the GRU\n",
        "    output, state = self.gru(x)\n",
        "\n",
        "    # output shape == (batch_size * 1, hidden_size)\n",
        "    output = tf.reshape(output, (-1, output.shape[2]))\n",
        "\n",
        "    # output shape == (batch_size, vocab)\n",
        "    x = self.fc(output)\n",
        "\n",
        "    return x, state, attention_weights"
      ],
      "execution_count": null,
      "outputs": []
    },
    {
      "cell_type": "code",
      "metadata": {
        "id": "g9EKSTJy0uRs",
        "outputId": "3ff2d5f1-471b-4db6-d016-9d2fa530ce29",
        "colab": {
          "base_uri": "https://localhost:8080/",
          "height": 34
        }
      },
      "source": [
        "decoder = Decoder(vocab_tar_size, embedding_dim, units, BATCH_SIZE)\n",
        "\n",
        "sample_decoder_output, _, _ = decoder(tf.random.uniform((BATCH_SIZE, 1)),\n",
        "                                      sample_hidden, sample_output)\n",
        "\n",
        "print ('Decoder output shape: (batch_size, vocab size) {}'.format(sample_decoder_output.shape))"
      ],
      "execution_count": null,
      "outputs": [
        {
          "output_type": "stream",
          "text": [
            "Decoder output shape: (batch_size, vocab size) (64, 15931)\n"
          ],
          "name": "stdout"
        }
      ]
    },
    {
      "cell_type": "code",
      "metadata": {
        "id": "5LDaPOIt01B8"
      },
      "source": [
        "optimizer = tf.keras.optimizers.Adam()\n",
        "loss_object = tf.keras.losses.SparseCategoricalCrossentropy(\n",
        "    from_logits=True, reduction='none')\n",
        "\n",
        "def loss_function(real, pred):\n",
        "  mask = tf.math.logical_not(tf.math.equal(real, 0))\n",
        "  loss_ = loss_object(real, pred)\n",
        "\n",
        "  mask = tf.cast(mask, dtype=loss_.dtype)\n",
        "  loss_ *= mask\n",
        "\n",
        "  return tf.reduce_mean(loss_)"
      ],
      "execution_count": null,
      "outputs": []
    },
    {
      "cell_type": "code",
      "metadata": {
        "id": "0LeLbOnd06LP"
      },
      "source": [
        "checkpoint_dir1 = './training_checkpoints_luong_general'\n",
        "checkpoint_prefix1 = os.path.join(checkpoint_dir1, \"ckpt\")\n",
        "checkpoint1 = tf.train.Checkpoint(optimizer=optimizer,\n",
        "                                 encoder=encoder,\n",
        "                                 decoder=decoder)"
      ],
      "execution_count": null,
      "outputs": []
    },
    {
      "cell_type": "code",
      "metadata": {
        "id": "qFi3-xby1Muz"
      },
      "source": [
        "@tf.function\n",
        "def train_step(inp, targ, enc_hidden):\n",
        "  loss = 0\n",
        "\n",
        "  with tf.GradientTape() as tape:\n",
        "    enc_output, enc_hidden = encoder(inp, enc_hidden)\n",
        "\n",
        "    dec_hidden = enc_hidden\n",
        "\n",
        "    dec_input = tf.expand_dims([targ_lang.word_index['<start>']] * BATCH_SIZE, 1)\n",
        "\n",
        "    # Teacher forcing - feeding the target as the next input\n",
        "    for t in range(1, targ.shape[1]):\n",
        "      # passing enc_output to the decoder\n",
        "      predictions, dec_hidden, _ = decoder(dec_input, dec_hidden, enc_output)\n",
        "\n",
        "      loss += loss_function(targ[:, t], predictions)\n",
        "\n",
        "      # using teacher forcing\n",
        "      dec_input = tf.expand_dims(targ[:, t], 1)\n",
        "\n",
        "  batch_loss = (loss / int(targ.shape[1]))\n",
        "\n",
        "  variables = encoder.trainable_variables + decoder.trainable_variables\n",
        "\n",
        "  gradients = tape.gradient(loss, variables)\n",
        "\n",
        "  optimizer.apply_gradients(zip(gradients, variables))\n",
        "\n",
        "  return batch_loss"
      ],
      "execution_count": null,
      "outputs": []
    },
    {
      "cell_type": "code",
      "metadata": {
        "id": "MXqFZuT51RBY",
        "outputId": "492007b7-31c1-4ee2-bd71-81b02a31829a",
        "colab": {
          "base_uri": "https://localhost:8080/",
          "height": 1000
        }
      },
      "source": [
        "EPOCHS = 20\n",
        "\n",
        "for epoch in range(EPOCHS):\n",
        "  start = time.time()\n",
        "\n",
        "  enc_hidden = encoder.initialize_hidden_state()\n",
        "  total_loss = 0\n",
        "\n",
        "  for (batch, (inp, targ)) in enumerate(dataset.take(steps_per_epoch)):\n",
        "    batch_loss = train_step(inp, targ, enc_hidden)\n",
        "    total_loss += batch_loss\n",
        "\n",
        "    if batch % 200 == 0:\n",
        "      print('Epoch {} Batch {} Loss {:.4f}'.format(epoch + 1,\n",
        "                                                   batch,\n",
        "                                                   batch_loss.numpy()))\n",
        "  # saving (checkpoint) the model every 2 epochs\n",
        "  if (epoch + 1) % 2 == 0:\n",
        "    checkpoint1.save(file_prefix = checkpoint_prefix1)\n",
        "\n",
        "  print('Epoch {} Loss {:.4f}'.format(epoch + 1,\n",
        "                                      total_loss / steps_per_epoch))\n",
        "  print('Time taken for 1 epoch {} sec\\n'.format(time.time() - start))"
      ],
      "execution_count": null,
      "outputs": [
        {
          "output_type": "stream",
          "text": [
            "Epoch 1 Batch 0 Loss 4.0025\n",
            "Epoch 1 Batch 200 Loss 2.0951\n",
            "Epoch 1 Batch 400 Loss 1.8986\n",
            "Epoch 1 Batch 600 Loss 1.7786\n",
            "Epoch 1 Batch 800 Loss 1.7253\n",
            "Epoch 1 Batch 1000 Loss 1.6311\n",
            "Epoch 1 Batch 1200 Loss 1.6683\n",
            "Epoch 1 Batch 1400 Loss 1.4937\n",
            "Epoch 1 Batch 1600 Loss 1.5509\n",
            "Epoch 1 Batch 1800 Loss 1.5097\n",
            "Epoch 1 Batch 2000 Loss 1.4627\n",
            "Epoch 1 Loss 1.7241\n",
            "Time taken for 1 epoch 995.236946105957 sec\n",
            "\n",
            "Epoch 2 Batch 0 Loss 1.4743\n",
            "Epoch 2 Batch 200 Loss 1.3927\n",
            "Epoch 2 Batch 400 Loss 1.3627\n",
            "Epoch 2 Batch 600 Loss 1.3352\n",
            "Epoch 2 Batch 800 Loss 1.3780\n",
            "Epoch 2 Batch 1000 Loss 1.3574\n",
            "Epoch 2 Batch 1200 Loss 1.2461\n",
            "Epoch 2 Batch 1400 Loss 1.3862\n",
            "Epoch 2 Batch 1600 Loss 1.3591\n",
            "Epoch 2 Batch 1800 Loss 1.2527\n",
            "Epoch 2 Batch 2000 Loss 1.2008\n",
            "Epoch 2 Loss 1.3425\n",
            "Time taken for 1 epoch 967.4695611000061 sec\n",
            "\n",
            "Epoch 3 Batch 0 Loss 1.2592\n",
            "Epoch 3 Batch 200 Loss 1.3337\n",
            "Epoch 3 Batch 400 Loss 1.1209\n",
            "Epoch 3 Batch 600 Loss 1.2021\n",
            "Epoch 3 Batch 800 Loss 1.1522\n",
            "Epoch 3 Batch 1000 Loss 1.2128\n",
            "Epoch 3 Batch 1200 Loss 1.1165\n",
            "Epoch 3 Batch 1400 Loss 1.1082\n",
            "Epoch 3 Batch 1600 Loss 1.0824\n",
            "Epoch 3 Batch 1800 Loss 1.0999\n",
            "Epoch 3 Batch 2000 Loss 1.1490\n",
            "Epoch 3 Loss 1.1611\n",
            "Time taken for 1 epoch 968.8597066402435 sec\n",
            "\n",
            "Epoch 4 Batch 0 Loss 1.0426\n",
            "Epoch 4 Batch 200 Loss 0.9904\n",
            "Epoch 4 Batch 400 Loss 1.0224\n",
            "Epoch 4 Batch 600 Loss 0.9714\n",
            "Epoch 4 Batch 800 Loss 1.0578\n",
            "Epoch 4 Batch 1000 Loss 0.9308\n",
            "Epoch 4 Batch 1200 Loss 1.0762\n",
            "Epoch 4 Batch 1400 Loss 0.9695\n",
            "Epoch 4 Batch 1600 Loss 1.0886\n",
            "Epoch 4 Batch 1800 Loss 1.0240\n",
            "Epoch 4 Batch 2000 Loss 0.9537\n",
            "Epoch 4 Loss 1.0106\n",
            "Time taken for 1 epoch 972.4738116264343 sec\n",
            "\n",
            "Epoch 5 Batch 0 Loss 0.9736\n",
            "Epoch 5 Batch 200 Loss 0.9838\n",
            "Epoch 5 Batch 400 Loss 0.8972\n",
            "Epoch 5 Batch 600 Loss 0.9552\n",
            "Epoch 5 Batch 800 Loss 0.8217\n",
            "Epoch 5 Batch 1000 Loss 0.8944\n",
            "Epoch 5 Batch 1200 Loss 0.9097\n",
            "Epoch 5 Batch 1400 Loss 0.8023\n",
            "Epoch 5 Batch 1600 Loss 0.7746\n",
            "Epoch 5 Batch 1800 Loss 0.7617\n",
            "Epoch 5 Batch 2000 Loss 0.7713\n",
            "Epoch 5 Loss 0.8707\n",
            "Time taken for 1 epoch 968.4834170341492 sec\n",
            "\n",
            "Epoch 6 Batch 0 Loss 0.8460\n",
            "Epoch 6 Batch 200 Loss 0.8395\n",
            "Epoch 6 Batch 400 Loss 0.6972\n",
            "Epoch 6 Batch 600 Loss 0.6844\n",
            "Epoch 6 Batch 800 Loss 0.6542\n",
            "Epoch 6 Batch 1000 Loss 0.6568\n",
            "Epoch 6 Batch 1200 Loss 0.8023\n",
            "Epoch 6 Batch 1400 Loss 0.6645\n",
            "Epoch 6 Batch 1600 Loss 0.7202\n",
            "Epoch 6 Batch 1800 Loss 0.7152\n",
            "Epoch 6 Batch 2000 Loss 0.8318\n",
            "Epoch 6 Loss 0.7494\n",
            "Time taken for 1 epoch 967.188378572464 sec\n",
            "\n",
            "Epoch 7 Batch 0 Loss 0.6324\n",
            "Epoch 7 Batch 200 Loss 0.6015\n",
            "Epoch 7 Batch 400 Loss 0.6335\n",
            "Epoch 7 Batch 600 Loss 0.6788\n",
            "Epoch 7 Batch 800 Loss 0.6353\n",
            "Epoch 7 Batch 1000 Loss 0.7398\n",
            "Epoch 7 Batch 1200 Loss 0.5831\n",
            "Epoch 7 Batch 1400 Loss 0.7694\n",
            "Epoch 7 Batch 1600 Loss 0.8416\n",
            "Epoch 7 Batch 1800 Loss 0.6529\n",
            "Epoch 7 Batch 2000 Loss 0.6548\n",
            "Epoch 7 Loss 0.6538\n",
            "Time taken for 1 epoch 968.6859092712402 sec\n",
            "\n",
            "Epoch 8 Batch 0 Loss 0.6794\n",
            "Epoch 8 Batch 200 Loss 0.5960\n",
            "Epoch 8 Batch 400 Loss 0.5154\n",
            "Epoch 8 Batch 600 Loss 0.6244\n",
            "Epoch 8 Batch 800 Loss 0.5364\n",
            "Epoch 8 Batch 1000 Loss 0.5562\n",
            "Epoch 8 Batch 1200 Loss 0.6819\n",
            "Epoch 8 Batch 1400 Loss 0.5949\n",
            "Epoch 8 Batch 1600 Loss 0.5286\n",
            "Epoch 8 Batch 1800 Loss 0.5665\n",
            "Epoch 8 Batch 2000 Loss 0.5177\n",
            "Epoch 8 Loss 0.5650\n",
            "Time taken for 1 epoch 973.4755790233612 sec\n",
            "\n",
            "Epoch 9 Batch 0 Loss 0.6186\n",
            "Epoch 9 Batch 200 Loss 0.5429\n",
            "Epoch 9 Batch 400 Loss 0.4358\n",
            "Epoch 9 Batch 600 Loss 0.5331\n",
            "Epoch 9 Batch 800 Loss 0.5186\n",
            "Epoch 9 Batch 1000 Loss 0.4855\n",
            "Epoch 9 Batch 1200 Loss 0.5181\n",
            "Epoch 9 Batch 1400 Loss 0.5489\n",
            "Epoch 9 Batch 1600 Loss 0.4444\n",
            "Epoch 9 Batch 1800 Loss 0.5385\n",
            "Epoch 9 Batch 2000 Loss 0.5570\n",
            "Epoch 9 Loss 0.4937\n",
            "Time taken for 1 epoch 968.8861238956451 sec\n",
            "\n",
            "Epoch 10 Batch 0 Loss 0.4766\n",
            "Epoch 10 Batch 200 Loss 0.4107\n",
            "Epoch 10 Batch 400 Loss 0.5321\n",
            "Epoch 10 Batch 600 Loss 0.3905\n",
            "Epoch 10 Batch 800 Loss 0.4282\n",
            "Epoch 10 Batch 1000 Loss 0.3690\n",
            "Epoch 10 Batch 1200 Loss 0.4510\n",
            "Epoch 10 Batch 1400 Loss 0.4248\n",
            "Epoch 10 Batch 1600 Loss 0.5588\n",
            "Epoch 10 Batch 1800 Loss 0.4486\n",
            "Epoch 10 Batch 2000 Loss 0.4000\n",
            "Epoch 10 Loss 0.4505\n",
            "Time taken for 1 epoch 968.009966135025 sec\n",
            "\n",
            "Epoch 11 Batch 0 Loss 0.4283\n",
            "Epoch 11 Batch 200 Loss 0.4123\n",
            "Epoch 11 Batch 400 Loss 0.3267\n",
            "Epoch 11 Batch 600 Loss 0.4790\n",
            "Epoch 11 Batch 800 Loss 0.3942\n",
            "Epoch 11 Batch 1000 Loss 0.3740\n",
            "Epoch 11 Batch 1200 Loss 0.3823\n",
            "Epoch 11 Batch 1400 Loss 0.2995\n",
            "Epoch 11 Batch 1600 Loss 0.3553\n",
            "Epoch 11 Batch 1800 Loss 0.4059\n",
            "Epoch 11 Batch 2000 Loss 0.5423\n",
            "Epoch 11 Loss 0.3878\n",
            "Time taken for 1 epoch 969.2606747150421 sec\n",
            "\n",
            "Epoch 12 Batch 0 Loss 0.3760\n",
            "Epoch 12 Batch 200 Loss 0.3536\n",
            "Epoch 12 Batch 400 Loss 0.4049\n",
            "Epoch 12 Batch 600 Loss 0.3579\n",
            "Epoch 12 Batch 800 Loss 0.3727\n",
            "Epoch 12 Batch 1000 Loss 0.3768\n",
            "Epoch 12 Batch 1200 Loss 0.3149\n",
            "Epoch 12 Batch 1400 Loss 0.2810\n",
            "Epoch 12 Batch 1600 Loss 0.3827\n",
            "Epoch 12 Batch 1800 Loss 0.3426\n",
            "Epoch 12 Batch 2000 Loss 0.3909\n",
            "Epoch 12 Loss 0.3486\n",
            "Time taken for 1 epoch 966.8919479846954 sec\n",
            "\n",
            "Epoch 13 Batch 0 Loss 0.3019\n",
            "Epoch 13 Batch 200 Loss 0.3391\n",
            "Epoch 13 Batch 400 Loss 0.3399\n",
            "Epoch 13 Batch 600 Loss 0.2138\n",
            "Epoch 13 Batch 800 Loss 0.3618\n",
            "Epoch 13 Batch 1000 Loss 0.3498\n",
            "Epoch 13 Batch 1200 Loss 0.3348\n",
            "Epoch 13 Batch 1400 Loss 0.3179\n",
            "Epoch 13 Batch 1600 Loss 0.3214\n",
            "Epoch 13 Batch 1800 Loss 0.2910\n",
            "Epoch 13 Batch 2000 Loss 0.3138\n",
            "Epoch 13 Loss 0.3033\n",
            "Time taken for 1 epoch 965.2206449508667 sec\n",
            "\n",
            "Epoch 14 Batch 0 Loss 0.2735\n",
            "Epoch 14 Batch 200 Loss 0.2747\n",
            "Epoch 14 Batch 400 Loss 0.2265\n",
            "Epoch 14 Batch 600 Loss 0.2938\n",
            "Epoch 14 Batch 800 Loss 0.2919\n",
            "Epoch 14 Batch 1000 Loss 0.2332\n",
            "Epoch 14 Batch 1200 Loss 0.3646\n",
            "Epoch 14 Batch 1400 Loss 0.2905\n",
            "Epoch 14 Batch 1600 Loss 0.2627\n",
            "Epoch 14 Batch 1800 Loss 0.2738\n",
            "Epoch 14 Batch 2000 Loss 0.2457\n",
            "Epoch 14 Loss 0.2841\n",
            "Time taken for 1 epoch 967.6090834140778 sec\n",
            "\n",
            "Epoch 15 Batch 0 Loss 0.2345\n",
            "Epoch 15 Batch 200 Loss 0.2307\n",
            "Epoch 15 Batch 400 Loss 0.2601\n",
            "Epoch 15 Batch 600 Loss 0.3058\n",
            "Epoch 15 Batch 800 Loss 0.2231\n",
            "Epoch 15 Batch 1000 Loss 0.2963\n",
            "Epoch 15 Batch 1200 Loss 0.2547\n",
            "Epoch 15 Batch 1400 Loss 0.3054\n",
            "Epoch 15 Batch 1600 Loss 0.2146\n",
            "Epoch 15 Batch 1800 Loss 0.3287\n",
            "Epoch 15 Batch 2000 Loss 0.2375\n",
            "Epoch 15 Loss 0.2549\n",
            "Time taken for 1 epoch 966.8431951999664 sec\n",
            "\n",
            "Epoch 16 Batch 0 Loss 0.2351\n",
            "Epoch 16 Batch 200 Loss 0.2018\n",
            "Epoch 16 Batch 400 Loss 0.2169\n",
            "Epoch 16 Batch 600 Loss 0.2406\n",
            "Epoch 16 Batch 800 Loss 0.2210\n",
            "Epoch 16 Batch 1000 Loss 0.2112\n",
            "Epoch 16 Batch 1200 Loss 0.1731\n",
            "Epoch 16 Batch 1400 Loss 0.2140\n",
            "Epoch 16 Batch 1600 Loss 0.2442\n",
            "Epoch 16 Batch 1800 Loss 0.2255\n",
            "Epoch 16 Batch 2000 Loss 0.2072\n",
            "Epoch 16 Loss 0.2271\n",
            "Time taken for 1 epoch 967.5785245895386 sec\n",
            "\n",
            "Epoch 17 Batch 0 Loss 0.2125\n",
            "Epoch 17 Batch 200 Loss 0.2322\n",
            "Epoch 17 Batch 400 Loss 0.2722\n",
            "Epoch 17 Batch 600 Loss 0.2081\n",
            "Epoch 17 Batch 800 Loss 0.2692\n",
            "Epoch 17 Batch 1000 Loss 0.1958\n",
            "Epoch 17 Batch 1200 Loss 0.2064\n",
            "Epoch 17 Batch 1400 Loss 0.2745\n",
            "Epoch 17 Batch 1600 Loss 0.1682\n",
            "Epoch 17 Batch 1800 Loss 0.2293\n",
            "Epoch 17 Batch 2000 Loss 0.2194\n",
            "Epoch 17 Loss 0.2050\n",
            "Time taken for 1 epoch 973.0929765701294 sec\n",
            "\n",
            "Epoch 18 Batch 0 Loss 0.1819\n",
            "Epoch 18 Batch 200 Loss 0.2159\n",
            "Epoch 18 Batch 400 Loss 0.1671\n",
            "Epoch 18 Batch 600 Loss 0.2407\n",
            "Epoch 18 Batch 800 Loss 0.1650\n",
            "Epoch 18 Batch 1000 Loss 0.2263\n",
            "Epoch 18 Batch 1200 Loss 0.2392\n",
            "Epoch 18 Batch 1400 Loss 0.2496\n",
            "Epoch 18 Batch 1600 Loss 0.1924\n",
            "Epoch 18 Batch 1800 Loss 0.2396\n",
            "Epoch 18 Batch 2000 Loss 0.2145\n",
            "Epoch 18 Loss 0.1897\n",
            "Time taken for 1 epoch 979.4342226982117 sec\n",
            "\n",
            "Epoch 19 Batch 0 Loss 0.1382\n",
            "Epoch 19 Batch 200 Loss 0.1661\n",
            "Epoch 19 Batch 400 Loss 0.1603\n",
            "Epoch 19 Batch 600 Loss 0.1856\n",
            "Epoch 19 Batch 800 Loss 0.1877\n",
            "Epoch 19 Batch 1000 Loss 0.2005\n",
            "Epoch 19 Batch 1200 Loss 0.1505\n",
            "Epoch 19 Batch 1400 Loss 0.1794\n",
            "Epoch 19 Batch 1600 Loss 0.1409\n",
            "Epoch 19 Batch 1800 Loss 0.2034\n",
            "Epoch 19 Batch 2000 Loss 0.3196\n",
            "Epoch 19 Loss 0.1818\n",
            "Time taken for 1 epoch 974.8814051151276 sec\n",
            "\n",
            "Epoch 20 Batch 0 Loss 0.1590\n",
            "Epoch 20 Batch 200 Loss 0.1477\n",
            "Epoch 20 Batch 400 Loss 0.1756\n",
            "Epoch 20 Batch 600 Loss 0.3272\n",
            "Epoch 20 Batch 800 Loss 0.1521\n",
            "Epoch 20 Batch 1000 Loss 0.1561\n",
            "Epoch 20 Batch 1200 Loss 0.1867\n",
            "Epoch 20 Batch 1400 Loss 0.1775\n",
            "Epoch 20 Batch 1600 Loss 0.2164\n",
            "Epoch 20 Batch 1800 Loss 0.1700\n",
            "Epoch 20 Batch 2000 Loss 0.1611\n",
            "Epoch 20 Loss 0.1760\n",
            "Time taken for 1 epoch 976.2756657600403 sec\n",
            "\n"
          ],
          "name": "stdout"
        }
      ]
    },
    {
      "cell_type": "code",
      "metadata": {
        "id": "tts2vWjm2Nvo"
      },
      "source": [
        "def evaluate(sentence):\n",
        "  attention_plot = np.zeros((max_length_targ, max_length_inp))\n",
        "\n",
        "  print(sentence)\n",
        "  sentence = preprocess_sentence(sentence)\n",
        "  print(sentence)\n",
        "\n",
        "  inputs = [inp_lang.word_index[i] for i in sentence.split(' ')]\n",
        "  inputs = tf.keras.preprocessing.sequence.pad_sequences([inputs],\n",
        "                                                         maxlen=max_length_inp,\n",
        "                                                         padding='post')\n",
        "  inputs = tf.convert_to_tensor(inputs)\n",
        "\n",
        "  result = ''\n",
        "\n",
        "  hidden = [tf.zeros((1, units))]\n",
        "  enc_out, enc_hidden = encoder(inputs, hidden)\n",
        "\n",
        "  dec_hidden = enc_hidden\n",
        "  dec_input = tf.expand_dims([targ_lang.word_index['<start>']], 0)\n",
        "\n",
        "  for t in range(max_length_targ):\n",
        "    predictions, dec_hidden, attention_weights = decoder(dec_input,\n",
        "                                                         dec_hidden,\n",
        "                                                         enc_out)\n",
        "\n",
        "    # storing the attention weights to plot later on\n",
        "    attention_weights = tf.reshape(attention_weights, (-1, ))\n",
        "    attention_plot[t] = attention_weights.numpy()\n",
        "\n",
        "    predicted_id = tf.argmax(predictions[0]).numpy()\n",
        "\n",
        "    result += targ_lang.index_word[predicted_id] + ' '\n",
        "\n",
        "    if targ_lang.index_word[predicted_id] == '<end>':\n",
        "      return result, sentence, attention_plot\n",
        "\n",
        "    # the predicted ID is fed back into the model\n",
        "    dec_input = tf.expand_dims([predicted_id], 0)\n",
        "\n",
        "  return result, sentence, attention_plot"
      ],
      "execution_count": null,
      "outputs": []
    },
    {
      "cell_type": "code",
      "metadata": {
        "id": "BggnFdTr2R00"
      },
      "source": [
        "# function for plotting the attention weights\n",
        "def plot_attention(attention, sentence, predicted_sentence):\n",
        "  fig = plt.figure(figsize=(10,10))\n",
        "  ax = fig.add_subplot(1, 1, 1)\n",
        "  ax.matshow(attention, cmap='viridis', clim=[0,1])\n",
        "\n",
        "  fontdict = {'fontsize': 14}\n",
        "\n",
        "  ax.set_xticklabels([''] + sentence, fontdict=fontdict, rotation=90)\n",
        "  ax.set_yticklabels([''] + predicted_sentence, fontdict=fontdict)\n",
        "\n",
        "  ax.xaxis.set_major_locator(ticker.MultipleLocator(1))\n",
        "  ax.yaxis.set_major_locator(ticker.MultipleLocator(1))\n",
        "\n",
        "  plt.show()"
      ],
      "execution_count": null,
      "outputs": []
    },
    {
      "cell_type": "code",
      "metadata": {
        "id": "hTlOV6Wu2WO5"
      },
      "source": [
        "def translate(sentence):\n",
        "  result, sentence, attention_plot = evaluate(sentence)\n",
        "\n",
        "  print('Input: %s' % (sentence))\n",
        "  print('Predicted translation: {}'.format(result))\n",
        "\n",
        "  attention_plot = attention_plot[:len(result.split(' ')), :len(sentence.split(' '))]\n",
        "  plot_attention(attention_plot, sentence.split(' '), result.split(' '))"
      ],
      "execution_count": null,
      "outputs": []
    },
    {
      "cell_type": "code",
      "metadata": {
        "id": "9driIspm2aP2",
        "outputId": "1bfc8a53-e370-426d-ed20-9cef4dc1eab5",
        "colab": {
          "base_uri": "https://localhost:8080/",
          "height": 34
        }
      },
      "source": [
        "# restoring the latest checkpoint in checkpoint_dir\n",
        "checkpoint1.restore(tf.train.latest_checkpoint(checkpoint_dir1))"
      ],
      "execution_count": null,
      "outputs": [
        {
          "output_type": "execute_result",
          "data": {
            "text/plain": [
              "<tensorflow.python.training.tracking.util.CheckpointLoadStatus at 0x7fb233004cc0>"
            ]
          },
          "metadata": {
            "tags": []
          },
          "execution_count": 30
        }
      ]
    },
    {
      "cell_type": "code",
      "metadata": {
        "id": "DK5QAb-72Ms1",
        "outputId": "597a2308-3b76-4cde-9689-9b3aaa22b3d9",
        "colab": {
          "base_uri": "https://localhost:8080/",
          "height": 687
        }
      },
      "source": [
        "translate(u'Die Insel ist mit dem Boot leicht zu erreichen.')"
      ],
      "execution_count": null,
      "outputs": [
        {
          "output_type": "stream",
          "text": [
            "Die Insel ist mit dem Boot leicht zu erreichen.\n",
            "<start> Die Insel ist mit dem Boot leicht zu erreichen . <end>\n",
            "Input: <start> Die Insel ist mit dem Boot leicht zu erreichen . <end>\n",
            "Predicted translation: The island is easy to reach by boat . <end> \n"
          ],
          "name": "stdout"
        },
        {
          "output_type": "display_data",
          "data": {
            "image/png": "[encoded data removed]",
            "text/plain": [
              "<Figure size 720x720 with 1 Axes>"
            ]
          },
          "metadata": {
            "tags": [],
            "needs_background": "light"
          }
        }
      ]
    },
    {
      "cell_type": "code",
      "metadata": {
        "id": "0UQQ_U0e2h5X",
        "outputId": "2d758507-c72a-439c-ded3-ea88c263f221",
        "colab": {
          "base_uri": "https://localhost:8080/",
          "height": 715
        }
      },
      "source": [
        "translate(u'Der Mann verliebte sich auf den ersten Blick.')"
      ],
      "execution_count": null,
      "outputs": [
        {
          "output_type": "stream",
          "text": [
            "Der Mann verliebte sich auf den ersten Blick.\n",
            "<start> Der Mann verliebte sich auf den ersten Blick . <end>\n",
            "Input: <start> Der Mann verliebte sich auf den ersten Blick . <end>\n",
            "Predicted translation: The man fell in love at first sight . <end> \n"
          ],
          "name": "stdout"
        },
        {
          "output_type": "display_data",
          "data": {
            "image/png": "[encoded data removed]",
            "text/plain": [
              "<Figure size 720x720 with 1 Axes>"
            ]
          },
          "metadata": {
            "tags": [],
            "needs_background": "light"
          }
        }
      ]
    },
    {
      "cell_type": "code",
      "metadata": {
        "id": "mXMeT0832l5M",
        "outputId": "bc5ef1f1-0fd7-4f80-8099-4cad88665214",
        "colab": {
          "base_uri": "https://localhost:8080/",
          "height": 676
        }
      },
      "source": [
        "translate(u'Die Regel gilt nur für Ausländer.')"
      ],
      "execution_count": null,
      "outputs": [
        {
          "output_type": "stream",
          "text": [
            "Die Regel gilt nur für Ausländer.\n",
            "<start> Die Regel gilt nur für Ausländer . <end>\n",
            "Input: <start> Die Regel gilt nur für Ausländer . <end>\n",
            "Predicted translation: The rule is only doctors . <end> \n"
          ],
          "name": "stdout"
        },
        {
          "output_type": "display_data",
          "data": {
            "image/png": "[encoded data removed]",
            "text/plain": [
              "<Figure size 720x720 with 1 Axes>"
            ]
          },
          "metadata": {
            "tags": [],
            "needs_background": "light"
          }
        }
      ]
    },
    {
      "cell_type": "code",
      "metadata": {
        "id": "BIyO5A6K2uNg",
        "outputId": "b4960c23-8ab6-4f1c-87d7-20398b1b20bc",
        "colab": {
          "base_uri": "https://localhost:8080/",
          "height": 679
        }
      },
      "source": [
        "translate(u'Wir werden wahrscheinlich vor Einbruch der Dunkelheit dort ankommen.')"
      ],
      "execution_count": null,
      "outputs": [
        {
          "output_type": "stream",
          "text": [
            "Wir werden wahrscheinlich vor Einbruch der Dunkelheit dort ankommen.\n",
            "<start> Wir werden wahrscheinlich vor Einbruch der Dunkelheit dort ankommen . <end>\n",
            "Input: <start> Wir werden wahrscheinlich vor Einbruch der Dunkelheit dort ankommen . <end>\n",
            "Predicted translation: We will probably get there before dark . <end> \n"
          ],
          "name": "stdout"
        },
        {
          "output_type": "display_data",
          "data": {
            "image/png": "[encoded data removed]",
            "text/plain": [
              "<Figure size 720x720 with 1 Axes>"
            ]
          },
          "metadata": {
            "tags": [],
            "needs_background": "light"
          }
        }
      ]
    },
    {
      "cell_type": "code",
      "metadata": {
        "id": "ONjxZi372ygb",
        "outputId": "4c593224-5430-49a6-cc6e-5b8299b076ec",
        "colab": {
          "base_uri": "https://localhost:8080/",
          "height": 480
        }
      },
      "source": [
        "translate(u'Was ist das für ein Lied, das da gerade im Radio läuft?')"
      ],
      "execution_count": null,
      "outputs": [
        {
          "output_type": "stream",
          "text": [
            "Was ist das für ein Lied, das da gerade im Radio läuft?\n",
            "<start> Was ist das für ein Lied , das da gerade im Radio läuft ? <end>\n",
            "Input: <start> Was ist das für ein Lied , das da gerade im Radio läuft ? <end>\n",
            "Predicted translation: What's that song on the radio ? <end> \n"
          ],
          "name": "stdout"
        },
        {
          "output_type": "display_data",
          "data": {
            "image/png": "[encoded data removed]",
            "text/plain": [
              "<Figure size 720x720 with 1 Axes>"
            ]
          },
          "metadata": {
            "tags": [],
            "needs_background": "light"
          }
        }
      ]
    },
    {
      "cell_type": "markdown",
      "metadata": {
        "id": "S5Y8u1i1z_Ut"
      },
      "source": [
        "## Dot Product Attention "
      ]
    },
    {
      "cell_type": "code",
      "metadata": {
        "id": "2QdvSq3DrRTn"
      },
      "source": [
        "class DotProductAttention(tf.keras.layers.Layer):\n",
        "  def __init__(self, units):\n",
        "    super(DotProductAttention, self).__init__()\n",
        "    \n",
        "  def call(self, query, values):\n",
        "    query_with_time_axis = tf.expand_dims(query, 1)\n",
        "\n",
        "    score =  tf.matmul(values, query_with_time_axis, transpose_b=True)\n",
        "\n",
        "    attention_weights = tf.nn.softmax(score, axis=1)\n",
        "\n",
        "    context_vector = attention_weights * values\n",
        "    context_vector = tf.reduce_sum(context_vector, axis=1)\n",
        "\n",
        "    return context_vector, attention_weights"
      ],
      "execution_count": null,
      "outputs": []
    },
    {
      "cell_type": "code",
      "metadata": {
        "id": "gcW8qdxkTwUM",
        "outputId": "7a8f822e-70bc-41ac-f6d2-0423043a0086",
        "colab": {
          "base_uri": "https://localhost:8080/",
          "height": 51
        }
      },
      "source": [
        "attention_layer = DotProductAttention(1024)\n",
        "attention_result, attention_weights = attention_layer(sample_hidden, sample_output)\n",
        "\n",
        "print(\"Attention result shape: (batch size, units) {}\".format(attention_result.shape))\n",
        "print(\"Attention weights shape: (batch_size, sequence_length, 1) {}\".format(attention_weights.shape))"
      ],
      "execution_count": null,
      "outputs": [
        {
          "output_type": "stream",
          "text": [
            "Attention result shape: (batch size, units) (64, 1024)\n",
            "Attention weights shape: (batch_size, sequence_length, 1) (64, 24, 1)\n"
          ],
          "name": "stdout"
        }
      ]
    },
    {
      "cell_type": "code",
      "metadata": {
        "id": "OE4U4336VEXj"
      },
      "source": [
        "class Decoder(tf.keras.Model):\n",
        "  def __init__(self, vocab_size, embedding_dim, dec_units, batch_sz):\n",
        "    super(Decoder, self).__init__()\n",
        "    self.batch_sz = batch_sz\n",
        "    self.dec_units = dec_units\n",
        "    self.embedding = tf.keras.layers.Embedding(vocab_size, embedding_dim)\n",
        "    self.gru = tf.keras.layers.GRU(self.dec_units,\n",
        "                                   return_sequences=True,\n",
        "                                   return_state=True,\n",
        "                                   recurrent_initializer='glorot_uniform')\n",
        "    self.fc = tf.keras.layers.Dense(vocab_size)\n",
        "\n",
        "    # used for attention\n",
        "    self.attention = DotProductAttention(self.dec_units)\n",
        "\n",
        "  def call(self, x, hidden, enc_output):\n",
        "    # enc_output shape == (batch_size, max_length, hidden_size)\n",
        "    context_vector, attention_weights = self.attention(hidden, enc_output)\n",
        "\n",
        "    # x shape after passing through embedding == (batch_size, 1, embedding_dim)\n",
        "    x = self.embedding(x)\n",
        "\n",
        "    # x shape after concatenation == (batch_size, 1, embedding_dim + hidden_size)\n",
        "    x = tf.concat([tf.expand_dims(context_vector, 1), x], axis=-1)\n",
        "\n",
        "    # passing the concatenated vector to the GRU\n",
        "    output, state = self.gru(x)\n",
        "\n",
        "    # output shape == (batch_size * 1, hidden_size)\n",
        "    output = tf.reshape(output, (-1, output.shape[2]))\n",
        "\n",
        "    # output shape == (batch_size, vocab)\n",
        "    x = self.fc(output)\n",
        "\n",
        "    return x, state, attention_weights"
      ],
      "execution_count": null,
      "outputs": []
    },
    {
      "cell_type": "code",
      "metadata": {
        "id": "8us2ryc0VOuZ",
        "outputId": "8d52d1d8-3035-4008-e004-d1332c03cdbe",
        "colab": {
          "base_uri": "https://localhost:8080/",
          "height": 34
        }
      },
      "source": [
        "decoder = Decoder(vocab_tar_size, embedding_dim, units, BATCH_SIZE)\n",
        "\n",
        "sample_decoder_output, _, _ = decoder(tf.random.uniform((BATCH_SIZE, 1)),\n",
        "                                      sample_hidden, sample_output)\n",
        "\n",
        "print ('Decoder output shape: (batch_size, vocab size) {}'.format(sample_decoder_output.shape))"
      ],
      "execution_count": null,
      "outputs": [
        {
          "output_type": "stream",
          "text": [
            "Decoder output shape: (batch_size, vocab size) (64, 15931)\n"
          ],
          "name": "stdout"
        }
      ]
    },
    {
      "cell_type": "code",
      "metadata": {
        "id": "kvBDH-38VRxy"
      },
      "source": [
        "optimizer = tf.keras.optimizers.Adam()\n",
        "loss_object = tf.keras.losses.SparseCategoricalCrossentropy(\n",
        "    from_logits=True, reduction='none')\n",
        "\n",
        "def loss_function(real, pred):\n",
        "  mask = tf.math.logical_not(tf.math.equal(real, 0))\n",
        "  loss_ = loss_object(real, pred)\n",
        "\n",
        "  mask = tf.cast(mask, dtype=loss_.dtype)\n",
        "  loss_ *= mask\n",
        "\n",
        "  return tf.reduce_mean(loss_)"
      ],
      "execution_count": null,
      "outputs": []
    },
    {
      "cell_type": "code",
      "metadata": {
        "id": "9pdD061mVVES"
      },
      "source": [
        "checkpoint_dir2 = './training_checkpoints_dot'\n",
        "checkpoint_prefix2 = os.path.join(checkpoint_dir2, \"ckpt\")\n",
        "checkpoint2 = tf.train.Checkpoint(optimizer=optimizer,\n",
        "                                 encoder=encoder,\n",
        "                                 decoder=decoder)"
      ],
      "execution_count": null,
      "outputs": []
    },
    {
      "cell_type": "code",
      "metadata": {
        "id": "VUyrUyrSVfe9"
      },
      "source": [
        "@tf.function\n",
        "def train_step(inp, targ, enc_hidden):\n",
        "  loss = 0\n",
        "\n",
        "  with tf.GradientTape() as tape:\n",
        "    enc_output, enc_hidden = encoder(inp, enc_hidden)\n",
        "\n",
        "    dec_hidden = enc_hidden\n",
        "\n",
        "    dec_input = tf.expand_dims([targ_lang.word_index['<start>']] * BATCH_SIZE, 1)\n",
        "\n",
        "    # Teacher forcing - feeding the target as the next input\n",
        "    for t in range(1, targ.shape[1]):\n",
        "      # passing enc_output to the decoder\n",
        "      predictions, dec_hidden, _ = decoder(dec_input, dec_hidden, enc_output)\n",
        "\n",
        "      loss += loss_function(targ[:, t], predictions)\n",
        "\n",
        "      # using teacher forcing\n",
        "      dec_input = tf.expand_dims(targ[:, t], 1)\n",
        "\n",
        "  batch_loss = (loss / int(targ.shape[1]))\n",
        "\n",
        "  variables = encoder.trainable_variables + decoder.trainable_variables\n",
        "\n",
        "  gradients = tape.gradient(loss, variables)\n",
        "\n",
        "  optimizer.apply_gradients(zip(gradients, variables))\n",
        "\n",
        "  return batch_loss"
      ],
      "execution_count": null,
      "outputs": []
    },
    {
      "cell_type": "code",
      "metadata": {
        "id": "WjADLa7XVrJb",
        "outputId": "bba600bd-1e08-4866-cf11-f821709ba5ab",
        "colab": {
          "base_uri": "https://localhost:8080/",
          "height": 1000
        }
      },
      "source": [
        "EPOCHS = 20\n",
        "\n",
        "for epoch in range(EPOCHS):\n",
        "  start = time.time()\n",
        "\n",
        "  enc_hidden = encoder.initialize_hidden_state()\n",
        "  total_loss = 0\n",
        "\n",
        "  for (batch, (inp, targ)) in enumerate(dataset.take(steps_per_epoch)):\n",
        "    batch_loss = train_step(inp, targ, enc_hidden)\n",
        "    total_loss += batch_loss\n",
        "\n",
        "    if batch % 200 == 0:\n",
        "      print('Epoch {} Batch {} Loss {:.4f}'.format(epoch + 1,\n",
        "                                                   batch,\n",
        "                                                   batch_loss.numpy()))\n",
        "  # saving (checkpoint) the model every 2 epochs\n",
        "  if (epoch + 1) % 2 == 0:\n",
        "    checkpoint2.save(file_prefix = checkpoint_prefix2)\n",
        "\n",
        "  print('Epoch {} Loss {:.4f}'.format(epoch + 1,\n",
        "                                      total_loss / steps_per_epoch))\n",
        "  print('Time taken for 1 epoch {} sec\\n'.format(time.time() - start))"
      ],
      "execution_count": null,
      "outputs": [
        {
          "output_type": "stream",
          "text": [
            "Epoch 1 Batch 0 Loss 4.2055\n",
            "Epoch 1 Batch 200 Loss 1.3585\n",
            "Epoch 1 Batch 400 Loss 1.0496\n",
            "Epoch 1 Batch 600 Loss 0.8203\n",
            "Epoch 1 Batch 800 Loss 0.8692\n",
            "Epoch 1 Batch 1000 Loss 0.8113\n",
            "Epoch 1 Batch 1200 Loss 0.6458\n",
            "Epoch 1 Batch 1400 Loss 0.7067\n",
            "Epoch 1 Batch 1600 Loss 0.6653\n",
            "Epoch 1 Batch 1800 Loss 0.7434\n",
            "Epoch 1 Batch 2000 Loss 0.6207\n",
            "Epoch 1 Loss 0.9333\n",
            "Time taken for 1 epoch 498.63513803482056 sec\n",
            "\n",
            "Epoch 2 Batch 0 Loss 0.5392\n",
            "Epoch 2 Batch 200 Loss 0.5021\n",
            "Epoch 2 Batch 400 Loss 0.4881\n",
            "Epoch 2 Batch 600 Loss 0.5210\n",
            "Epoch 2 Batch 800 Loss 0.5164\n",
            "Epoch 2 Batch 1000 Loss 0.4476\n",
            "Epoch 2 Batch 1200 Loss 0.5491\n",
            "Epoch 2 Batch 1400 Loss 0.2751\n",
            "Epoch 2 Batch 1600 Loss 0.4475\n",
            "Epoch 2 Batch 1800 Loss 0.4660\n",
            "Epoch 2 Batch 2000 Loss 0.4499\n",
            "Epoch 2 Loss 0.4804\n",
            "Time taken for 1 epoch 477.91671800613403 sec\n",
            "\n",
            "Epoch 3 Batch 0 Loss 0.3791\n",
            "Epoch 3 Batch 200 Loss 0.3142\n",
            "Epoch 3 Batch 400 Loss 0.3065\n",
            "Epoch 3 Batch 600 Loss 0.2511\n",
            "Epoch 3 Batch 800 Loss 0.2676\n",
            "Epoch 3 Batch 1000 Loss 0.3326\n",
            "Epoch 3 Batch 1200 Loss 0.3258\n",
            "Epoch 3 Batch 1400 Loss 0.3105\n",
            "Epoch 3 Batch 1600 Loss 0.3121\n",
            "Epoch 3 Batch 1800 Loss 0.3171\n",
            "Epoch 3 Batch 2000 Loss 0.2902\n",
            "Epoch 3 Loss 0.3232\n",
            "Time taken for 1 epoch 473.33180046081543 sec\n",
            "\n",
            "Epoch 4 Batch 0 Loss 0.2086\n",
            "Epoch 4 Batch 200 Loss 0.2426\n",
            "Epoch 4 Batch 400 Loss 0.2407\n",
            "Epoch 4 Batch 600 Loss 0.1940\n",
            "Epoch 4 Batch 800 Loss 0.2213\n",
            "Epoch 4 Batch 1000 Loss 0.2770\n",
            "Epoch 4 Batch 1200 Loss 0.2472\n",
            "Epoch 4 Batch 1400 Loss 0.2388\n",
            "Epoch 4 Batch 1600 Loss 0.2777\n",
            "Epoch 4 Batch 1800 Loss 0.2025\n",
            "Epoch 4 Batch 2000 Loss 0.2265\n",
            "Epoch 4 Loss 0.2506\n",
            "Time taken for 1 epoch 477.3447074890137 sec\n",
            "\n",
            "Epoch 5 Batch 0 Loss 0.1572\n",
            "Epoch 5 Batch 200 Loss 0.1820\n",
            "Epoch 5 Batch 400 Loss 0.1849\n",
            "Epoch 5 Batch 600 Loss 0.1993\n",
            "Epoch 5 Batch 800 Loss 0.2199\n",
            "Epoch 5 Batch 1000 Loss 0.2264\n",
            "Epoch 5 Batch 1200 Loss 0.2121\n",
            "Epoch 5 Batch 1400 Loss 0.1838\n",
            "Epoch 5 Batch 1600 Loss 0.2049\n",
            "Epoch 5 Batch 1800 Loss 0.1544\n",
            "Epoch 5 Batch 2000 Loss 0.1972\n",
            "Epoch 5 Loss 0.1897\n",
            "Time taken for 1 epoch 479.9050507545471 sec\n",
            "\n",
            "Epoch 6 Batch 0 Loss 0.1665\n",
            "Epoch 6 Batch 200 Loss 0.1470\n",
            "Epoch 6 Batch 400 Loss 0.1691\n",
            "Epoch 6 Batch 600 Loss 0.1566\n",
            "Epoch 6 Batch 800 Loss 0.1399\n",
            "Epoch 6 Batch 1000 Loss 0.1764\n",
            "Epoch 6 Batch 1200 Loss 0.1542\n",
            "Epoch 6 Batch 1400 Loss 0.1500\n",
            "Epoch 6 Batch 1600 Loss 0.1271\n",
            "Epoch 6 Batch 1800 Loss 0.1594\n",
            "Epoch 6 Batch 2000 Loss 0.1705\n",
            "Epoch 6 Loss 0.1538\n",
            "Time taken for 1 epoch 482.4294581413269 sec\n",
            "\n",
            "Epoch 7 Batch 0 Loss 0.1681\n",
            "Epoch 7 Batch 200 Loss 0.1389\n",
            "Epoch 7 Batch 400 Loss 0.1095\n",
            "Epoch 7 Batch 600 Loss 0.1433\n",
            "Epoch 7 Batch 800 Loss 0.0949\n",
            "Epoch 7 Batch 1000 Loss 0.1352\n",
            "Epoch 7 Batch 1200 Loss 0.1220\n",
            "Epoch 7 Batch 1400 Loss 0.1426\n",
            "Epoch 7 Batch 1600 Loss 0.1399\n",
            "Epoch 7 Batch 1800 Loss 0.1124\n",
            "Epoch 7 Batch 2000 Loss 0.1586\n",
            "Epoch 7 Loss 0.1302\n",
            "Time taken for 1 epoch 480.37754130363464 sec\n",
            "\n",
            "Epoch 8 Batch 0 Loss 0.1000\n",
            "Epoch 8 Batch 200 Loss 0.1232\n",
            "Epoch 8 Batch 400 Loss 0.0943\n",
            "Epoch 8 Batch 600 Loss 0.1062\n",
            "Epoch 8 Batch 800 Loss 0.1100\n",
            "Epoch 8 Batch 1000 Loss 0.0867\n",
            "Epoch 8 Batch 1200 Loss 0.1251\n",
            "Epoch 8 Batch 1400 Loss 0.1093\n",
            "Epoch 8 Batch 1600 Loss 0.1567\n",
            "Epoch 8 Batch 1800 Loss 0.0936\n",
            "Epoch 8 Batch 2000 Loss 0.1379\n",
            "Epoch 8 Loss 0.1177\n",
            "Time taken for 1 epoch 481.3045115470886 sec\n",
            "\n",
            "Epoch 9 Batch 0 Loss 0.0794\n",
            "Epoch 9 Batch 200 Loss 0.0960\n",
            "Epoch 9 Batch 400 Loss 0.1227\n",
            "Epoch 9 Batch 600 Loss 0.1019\n",
            "Epoch 9 Batch 800 Loss 0.0681\n",
            "Epoch 9 Batch 1000 Loss 0.1172\n",
            "Epoch 9 Batch 1200 Loss 0.0884\n",
            "Epoch 9 Batch 1400 Loss 0.1076\n",
            "Epoch 9 Batch 1600 Loss 0.0910\n",
            "Epoch 9 Batch 1800 Loss 0.1358\n",
            "Epoch 9 Batch 2000 Loss 0.0983\n",
            "Epoch 9 Loss 0.1017\n",
            "Time taken for 1 epoch 480.4952790737152 sec\n",
            "\n",
            "Epoch 10 Batch 0 Loss 0.0936\n",
            "Epoch 10 Batch 200 Loss 0.1066\n",
            "Epoch 10 Batch 400 Loss 0.0899\n",
            "Epoch 10 Batch 600 Loss 0.1063\n",
            "Epoch 10 Batch 800 Loss 0.0744\n",
            "Epoch 10 Batch 1000 Loss 0.0840\n",
            "Epoch 10 Batch 1200 Loss 0.1056\n",
            "Epoch 10 Batch 1400 Loss 0.0804\n",
            "Epoch 10 Batch 1600 Loss 0.0773\n",
            "Epoch 10 Batch 1800 Loss 0.1064\n",
            "Epoch 10 Batch 2000 Loss 0.0877\n",
            "Epoch 10 Loss 0.0925\n",
            "Time taken for 1 epoch 481.3744387626648 sec\n",
            "\n",
            "Epoch 11 Batch 0 Loss 0.0962\n",
            "Epoch 11 Batch 200 Loss 0.0953\n",
            "Epoch 11 Batch 400 Loss 0.1188\n",
            "Epoch 11 Batch 600 Loss 0.0803\n",
            "Epoch 11 Batch 800 Loss 0.0871\n",
            "Epoch 11 Batch 1000 Loss 0.0915\n",
            "Epoch 11 Batch 1200 Loss 0.1290\n",
            "Epoch 11 Batch 1400 Loss 0.0913\n",
            "Epoch 11 Batch 1600 Loss 0.0937\n",
            "Epoch 11 Batch 1800 Loss 0.0957\n",
            "Epoch 11 Batch 2000 Loss 0.0925\n",
            "Epoch 11 Loss 0.0900\n",
            "Time taken for 1 epoch 479.6143751144409 sec\n",
            "\n",
            "Epoch 12 Batch 0 Loss 0.0604\n",
            "Epoch 12 Batch 200 Loss 0.0608\n",
            "Epoch 12 Batch 400 Loss 0.0833\n",
            "Epoch 12 Batch 600 Loss 0.0995\n",
            "Epoch 12 Batch 800 Loss 0.0578\n",
            "Epoch 12 Batch 1000 Loss 0.0925\n",
            "Epoch 12 Batch 1200 Loss 0.1004\n",
            "Epoch 12 Batch 1400 Loss 0.0792\n",
            "Epoch 12 Batch 1600 Loss 0.1438\n",
            "Epoch 12 Batch 1800 Loss 0.0865\n",
            "Epoch 12 Batch 2000 Loss 0.0703\n",
            "Epoch 12 Loss 0.0843\n",
            "Time taken for 1 epoch 483.3787477016449 sec\n",
            "\n",
            "Epoch 13 Batch 0 Loss 0.0817\n",
            "Epoch 13 Batch 200 Loss 0.0539\n",
            "Epoch 13 Batch 400 Loss 0.0911\n",
            "Epoch 13 Batch 600 Loss 0.0684\n",
            "Epoch 13 Batch 800 Loss 0.0597\n",
            "Epoch 13 Batch 1000 Loss 0.0744\n",
            "Epoch 13 Batch 1200 Loss 0.1111\n",
            "Epoch 13 Batch 1400 Loss 0.0800\n",
            "Epoch 13 Batch 1600 Loss 0.0748\n",
            "Epoch 13 Batch 1800 Loss 0.0782\n",
            "Epoch 13 Batch 2000 Loss 0.1084\n",
            "Epoch 13 Loss 0.0790\n",
            "Time taken for 1 epoch 485.93822741508484 sec\n",
            "\n",
            "Epoch 14 Batch 0 Loss 0.0731\n",
            "Epoch 14 Batch 200 Loss 0.0471\n",
            "Epoch 14 Batch 400 Loss 0.1037\n",
            "Epoch 14 Batch 600 Loss 0.0670\n",
            "Epoch 14 Batch 800 Loss 0.0628\n",
            "Epoch 14 Batch 1000 Loss 0.0700\n",
            "Epoch 14 Batch 1200 Loss 0.0884\n",
            "Epoch 14 Batch 1400 Loss 0.0878\n",
            "Epoch 14 Batch 1600 Loss 0.0980\n",
            "Epoch 14 Batch 1800 Loss 0.0988\n",
            "Epoch 14 Batch 2000 Loss 0.0729\n",
            "Epoch 14 Loss 0.0781\n",
            "Time taken for 1 epoch 488.94513058662415 sec\n",
            "\n",
            "Epoch 15 Batch 0 Loss 0.0484\n",
            "Epoch 15 Batch 200 Loss 0.0822\n",
            "Epoch 15 Batch 400 Loss 0.0793\n",
            "Epoch 15 Batch 600 Loss 0.0622\n",
            "Epoch 15 Batch 800 Loss 0.0772\n",
            "Epoch 15 Batch 1000 Loss 0.0790\n",
            "Epoch 15 Batch 1200 Loss 0.0642\n",
            "Epoch 15 Batch 1400 Loss 0.0479\n",
            "Epoch 15 Batch 1600 Loss 0.0774\n",
            "Epoch 15 Batch 1800 Loss 0.0746\n",
            "Epoch 15 Batch 2000 Loss 0.0944\n",
            "Epoch 15 Loss 0.0745\n",
            "Time taken for 1 epoch 487.22591638565063 sec\n",
            "\n",
            "Epoch 16 Batch 0 Loss 0.0744\n",
            "Epoch 16 Batch 200 Loss 0.0685\n",
            "Epoch 16 Batch 400 Loss 0.0749\n",
            "Epoch 16 Batch 600 Loss 0.0600\n",
            "Epoch 16 Batch 800 Loss 0.0443\n",
            "Epoch 16 Batch 1000 Loss 0.0716\n",
            "Epoch 16 Batch 1200 Loss 0.0603\n",
            "Epoch 16 Batch 1400 Loss 0.0894\n",
            "Epoch 16 Batch 1600 Loss 0.0759\n",
            "Epoch 16 Batch 1800 Loss 0.0709\n",
            "Epoch 16 Batch 2000 Loss 0.0697\n",
            "Epoch 16 Loss 0.0779\n",
            "Time taken for 1 epoch 482.45350313186646 sec\n",
            "\n",
            "Epoch 17 Batch 0 Loss 0.0491\n",
            "Epoch 17 Batch 200 Loss 0.0711\n",
            "Epoch 17 Batch 400 Loss 0.0699\n",
            "Epoch 17 Batch 600 Loss 0.0865\n",
            "Epoch 17 Batch 800 Loss 0.0702\n",
            "Epoch 17 Batch 1000 Loss 0.0602\n",
            "Epoch 17 Batch 1200 Loss 0.0663\n",
            "Epoch 17 Batch 1400 Loss 0.0815\n",
            "Epoch 17 Batch 1600 Loss 0.0688\n",
            "Epoch 17 Batch 1800 Loss 0.1047\n",
            "Epoch 17 Batch 2000 Loss 0.1132\n",
            "Epoch 17 Loss 0.0733\n",
            "Time taken for 1 epoch 481.55882954597473 sec\n",
            "\n",
            "Epoch 18 Batch 0 Loss 0.1177\n",
            "Epoch 18 Batch 200 Loss 0.0448\n",
            "Epoch 18 Batch 400 Loss 0.0741\n",
            "Epoch 18 Batch 600 Loss 0.0653\n",
            "Epoch 18 Batch 800 Loss 0.0927\n",
            "Epoch 18 Batch 1000 Loss 0.0550\n",
            "Epoch 18 Batch 1200 Loss 0.0748\n",
            "Epoch 18 Batch 1400 Loss 0.0744\n",
            "Epoch 18 Batch 1600 Loss 0.0635\n",
            "Epoch 18 Batch 1800 Loss 0.0672\n",
            "Epoch 18 Batch 2000 Loss 0.0465\n",
            "Epoch 18 Loss 0.0724\n",
            "Time taken for 1 epoch 486.4400897026062 sec\n",
            "\n",
            "Epoch 19 Batch 0 Loss 0.0519\n",
            "Epoch 19 Batch 200 Loss 0.0705\n",
            "Epoch 19 Batch 400 Loss 0.0505\n",
            "Epoch 19 Batch 600 Loss 0.0698\n",
            "Epoch 19 Batch 800 Loss 0.0314\n",
            "Epoch 19 Batch 1000 Loss 0.0812\n",
            "Epoch 19 Batch 1200 Loss 0.0641\n",
            "Epoch 19 Batch 1400 Loss 0.0721\n",
            "Epoch 19 Batch 1600 Loss 0.0706\n",
            "Epoch 19 Batch 1800 Loss 0.0829\n",
            "Epoch 19 Batch 2000 Loss 0.0849\n",
            "Epoch 19 Loss 0.0687\n",
            "Time taken for 1 epoch 483.95305490493774 sec\n",
            "\n",
            "Epoch 20 Batch 0 Loss 0.0561\n",
            "Epoch 20 Batch 200 Loss 0.0428\n",
            "Epoch 20 Batch 400 Loss 0.0624\n",
            "Epoch 20 Batch 600 Loss 0.0599\n",
            "Epoch 20 Batch 800 Loss 0.0523\n",
            "Epoch 20 Batch 1000 Loss 0.0494\n",
            "Epoch 20 Batch 1200 Loss 0.0776\n",
            "Epoch 20 Batch 1400 Loss 0.0672\n",
            "Epoch 20 Batch 1600 Loss 0.0828\n",
            "Epoch 20 Batch 1800 Loss 0.1076\n",
            "Epoch 20 Batch 2000 Loss 0.0769\n",
            "Epoch 20 Loss 0.0693\n",
            "Time taken for 1 epoch 478.82035732269287 sec\n",
            "\n"
          ],
          "name": "stdout"
        }
      ]
    },
    {
      "cell_type": "code",
      "metadata": {
        "id": "FMtnoBN6Vu4Y"
      },
      "source": [
        "def evaluate(sentence):\n",
        "  attention_plot = np.zeros((max_length_targ, max_length_inp))\n",
        "\n",
        "  print(sentence)\n",
        "  sentence = preprocess_sentence(sentence)\n",
        "  print(sentence)\n",
        "\n",
        "  inputs = [inp_lang.word_index[i] for i in sentence.split(' ')]\n",
        "  inputs = tf.keras.preprocessing.sequence.pad_sequences([inputs],\n",
        "                                                         maxlen=max_length_inp,\n",
        "                                                         padding='post')\n",
        "  inputs = tf.convert_to_tensor(inputs)\n",
        "\n",
        "  result = ''\n",
        "\n",
        "  hidden = [tf.zeros((1, units))]\n",
        "  enc_out, enc_hidden = encoder(inputs, hidden)\n",
        "\n",
        "  dec_hidden = enc_hidden\n",
        "  dec_input = tf.expand_dims([targ_lang.word_index['<start>']], 0)\n",
        "\n",
        "  for t in range(max_length_targ):\n",
        "    predictions, dec_hidden, attention_weights = decoder(dec_input,\n",
        "                                                         dec_hidden,\n",
        "                                                         enc_out)\n",
        "\n",
        "    # storing the attention weights to plot later on\n",
        "    attention_weights = tf.reshape(attention_weights, (-1, ))\n",
        "    attention_plot[t] = attention_weights.numpy()\n",
        "\n",
        "    predicted_id = tf.argmax(predictions[0]).numpy()\n",
        "\n",
        "    result += targ_lang.index_word[predicted_id] + ' '\n",
        "\n",
        "    if targ_lang.index_word[predicted_id] == '<end>':\n",
        "      return result, sentence, attention_plot\n",
        "\n",
        "    # the predicted ID is fed back into the model\n",
        "    dec_input = tf.expand_dims([predicted_id], 0)\n",
        "\n",
        "  return result, sentence, attention_plot"
      ],
      "execution_count": null,
      "outputs": []
    },
    {
      "cell_type": "code",
      "metadata": {
        "id": "rwOprGBJVx5a"
      },
      "source": [
        "# function for plotting the attention weights\n",
        "def plot_attention(attention, sentence, predicted_sentence):\n",
        "  fig = plt.figure(figsize=(10,10))\n",
        "  ax = fig.add_subplot(1, 1, 1)\n",
        "  ax.matshow(attention, cmap='viridis', clim=[0,1])\n",
        "\n",
        "  fontdict = {'fontsize': 14}\n",
        "\n",
        "  ax.set_xticklabels([''] + sentence, fontdict=fontdict, rotation=90)\n",
        "  ax.set_yticklabels([''] + predicted_sentence, fontdict=fontdict)\n",
        "\n",
        "  ax.xaxis.set_major_locator(ticker.MultipleLocator(1))\n",
        "  ax.yaxis.set_major_locator(ticker.MultipleLocator(1))\n",
        "\n",
        "  plt.show()"
      ],
      "execution_count": null,
      "outputs": []
    },
    {
      "cell_type": "code",
      "metadata": {
        "id": "1WkSpSc_V1pF"
      },
      "source": [
        "def translate(sentence):\n",
        "  result, sentence, attention_plot = evaluate(sentence)\n",
        "\n",
        "  print('Input: %s' % (sentence))\n",
        "  print('Predicted translation: {}'.format(result))\n",
        "\n",
        "  attention_plot = attention_plot[:len(result.split(' ')), :len(sentence.split(' '))]\n",
        "  plot_attention(attention_plot, sentence.split(' '), result.split(' '))"
      ],
      "execution_count": null,
      "outputs": []
    },
    {
      "cell_type": "code",
      "metadata": {
        "id": "1gGXkNPNV5fJ"
      },
      "source": [
        "# restoring the latest checkpoint in checkpoint_dir\n",
        "checkpoint2.restore(tf.train.latest_checkpoint(checkpoint_dir2))"
      ],
      "execution_count": null,
      "outputs": []
    },
    {
      "cell_type": "code",
      "metadata": {
        "id": "5wFXkBDqWBaC",
        "outputId": "49de8998-fc18-44fd-a5aa-472da197fec9",
        "colab": {
          "base_uri": "https://localhost:8080/",
          "height": 719
        }
      },
      "source": [
        "translate(u'Die Insel ist mit dem Boot leicht zu erreichen.')"
      ],
      "execution_count": null,
      "outputs": [
        {
          "output_type": "stream",
          "text": [
            "Die Insel ist mit dem Boot leicht zu erreichen.\n",
            "<start> Die Insel ist mit dem Boot leicht zu erreichen . <end>\n",
            "Input: <start> Die Insel ist mit dem Boot leicht zu erreichen . <end>\n",
            "Predicted translation: The island is easy to reach by the island . <end> \n"
          ],
          "name": "stdout"
        },
        {
          "output_type": "display_data",
          "data": {
            "image/png": "[encoded data removed]",
            "text/plain": [
              "<Figure size 720x720 with 1 Axes>"
            ]
          },
          "metadata": {
            "tags": [],
            "needs_background": "light"
          }
        }
      ]
    },
    {
      "cell_type": "code",
      "metadata": {
        "id": "zE9zUrNmWGQz",
        "outputId": "7e93106d-a634-4710-b24f-86ec70b5f60c",
        "colab": {
          "base_uri": "https://localhost:8080/",
          "height": 577
        }
      },
      "source": [
        "translate(u'Der Mann verliebte sich auf den ersten Blick.')"
      ],
      "execution_count": null,
      "outputs": [
        {
          "output_type": "stream",
          "text": [
            "Der Mann verliebte sich auf den ersten Blick.\n",
            "<start> Der Mann verliebte sich auf den ersten Blick . <end>\n",
            "Input: <start> Der Mann verliebte sich auf den ersten Blick . <end>\n",
            "Predicted translation: The man fell in love . <end> \n"
          ],
          "name": "stdout"
        },
        {
          "output_type": "display_data",
          "data": {
            "image/png": "[encoded data removed]",
            "text/plain": [
              "<Figure size 720x720 with 1 Axes>"
            ]
          },
          "metadata": {
            "tags": [],
            "needs_background": "light"
          }
        }
      ]
    },
    {
      "cell_type": "code",
      "metadata": {
        "id": "Vq_Madr9WG24",
        "outputId": "d7cea501-0750-4a08-9fa9-92d16d290799",
        "colab": {
          "base_uri": "https://localhost:8080/",
          "height": 724
        }
      },
      "source": [
        "translate(u'Die Regel gilt nur für Ausländer.')"
      ],
      "execution_count": null,
      "outputs": [
        {
          "output_type": "stream",
          "text": [
            "Die Regel gilt nur für Ausländer.\n",
            "<start> Die Regel gilt nur für Ausländer . <end>\n",
            "Input: <start> Die Regel gilt nur für Ausländer . <end>\n",
            "Predicted translation: The rule only applies to foreigners . <end> \n"
          ],
          "name": "stdout"
        },
        {
          "output_type": "display_data",
          "data": {
            "image/png": "[encoded data removed]",
            "text/plain": [
              "<Figure size 720x720 with 1 Axes>"
            ]
          },
          "metadata": {
            "tags": [],
            "needs_background": "light"
          }
        }
      ]
    },
    {
      "cell_type": "code",
      "metadata": {
        "id": "yWH7fa7MWJAE",
        "outputId": "4fb3f24d-dca0-4d69-da81-71efbfbda8a2",
        "colab": {
          "base_uri": "https://localhost:8080/",
          "height": 758
        }
      },
      "source": [
        "translate(u'Wir werden wahrscheinlich vor Einbruch der Dunkelheit dort ankommen.')"
      ],
      "execution_count": null,
      "outputs": [
        {
          "output_type": "stream",
          "text": [
            "Wir werden wahrscheinlich vor Einbruch der Dunkelheit dort ankommen.\n",
            "<start> Wir werden wahrscheinlich vor Einbruch der Dunkelheit dort ankommen . <end>\n",
            "Input: <start> Wir werden wahrscheinlich vor Einbruch der Dunkelheit dort ankommen . <end>\n",
            "Predicted translation: We'll probably get there before going to get there before going to get there before going to get there \n"
          ],
          "name": "stdout"
        },
        {
          "output_type": "display_data",
          "data": {
            "image/png": "[encoded data removed]",
            "text/plain": [
              "<Figure size 720x720 with 1 Axes>"
            ]
          },
          "metadata": {
            "tags": [],
            "needs_background": "light"
          }
        }
      ]
    },
    {
      "cell_type": "code",
      "metadata": {
        "id": "1mIppU4LWLnQ",
        "outputId": "ea19f8f6-ea3d-4b42-a33d-b152602a8d27",
        "colab": {
          "base_uri": "https://localhost:8080/",
          "height": 727
        }
      },
      "source": [
        "translate(u'Es besteht kein Zweifel an seiner Ehrlichkeit.')"
      ],
      "execution_count": null,
      "outputs": [
        {
          "output_type": "stream",
          "text": [
            "Es besteht kein Zweifel an seiner Ehrlichkeit.\n",
            "<start> Es besteht kein Zweifel an seiner Ehrlichkeit . <end>\n",
            "Input: <start> Es besteht kein Zweifel an seiner Ehrlichkeit . <end>\n",
            "Predicted translation: There is no doubt about his honesty . <end> \n"
          ],
          "name": "stdout"
        },
        {
          "output_type": "display_data",
          "data": {
            "image/png": "[encoded data removed]",
            "text/plain": [
              "<Figure size 720x720 with 1 Axes>"
            ]
          },
          "metadata": {
            "tags": [],
            "needs_background": "light"
          }
        }
      ]
    },
    {
      "cell_type": "markdown",
      "metadata": {
        "id": "fff32zKaw_gh"
      },
      "source": [
        "### Assignment Questions"
      ]
    },
    {
      "cell_type": "markdown",
      "metadata": {
        "id": "D4nuZMx3xYwl"
      },
      "source": [
        "- Which parts of the sentence are used as a token? Each character, each word, or are some words split up?  \n",
        "Answer: Each word is used as a token. No words are split up during the formation of tokens. During pre-processing, all special characters except \".\", \"?\", \"!\", \",\" are removed. All alphabets are retained. The pre-processing also takes into consideration the extra german alphabets.\n",
        "<br>\n",
        "<br>\n",
        "- Do the same tokens in different language have the same ID?\n",
        "e.g. Would the same token index map to the German word die and to the English word die?  \n",
        "Answer: The tokens that are same in both the languages, do not have the same ID. As per the example given below, the token \"die\" has different IDs.<br>\n",
        "<pre>\n",
        "    Input Language; index to word mapping\n",
        "    1 ----> &lt;start&gt;\n",
        "    898 ----> Ohne\n",
        "    316 ----> Wasser\n",
        "    2039 ----> mussten\n",
        "    16 ----> die\n",
        "    642 ----> Blumen\n",
        "    1102 ----> sterben\n",
        "    3 ----> .\n",
        "    2 ----> &lt;end&gt;\n",
        "    \n",
        "    Target Language; index to word mapping\n",
        "    1 ----> &lt;start&gt;\n",
        "    1886 ----> Without\n",
        "    317 ----> water\n",
        "    9 ----> the\n",
        "    656 ----> flowers\n",
        "    71 ----> had\n",
        "    5 ----> to\n",
        "    796 ----> die\n",
        "    3 ----> .\n",
        "    2 ----> &lt;end&gt;\n",
        "</pre>\n",
        "<br>\n",
        "<br>\n",
        "- What is the relation between the encoder output and the encoder hidden state which is used to initialize the decoder hidden state?\n",
        "(for the architecture used in the tutorial)  \n",
        "Answer:  The model reads the input sequence one at a time, and builds the hidden state for each input. However, the output of this model is only generated when the input sequence is completely processed, thus making the model asynchronous. This output is generated by applying a transformation on the last hidden state, which now contains all the information about the input sequence contents. The output will then be compared with the desired output y, in order to generate the loss value. The output is not a sequence anymore, but is a single value in vector format.\n",
        "<br>\n",
        "<br>\n",
        "- Is the decoder attending to all previous positions, including the previous decoder predictions?  \n",
        "Answer: The decoder has input from output of previous timestep, usually with output-to-hidden connections. The decoder takes into consideration the previous predictions, while computing for the current timestep.\n",
        "<br>\n",
        "<br>\n",
        "- Does the Encoder output change in different decoding steps?  \n",
        "Answer: During decoding process, if the output is not as expected, then by backpropagation, gradients can travel upto the encoder that contributed to the information that was used to make the prediction at that time. Thus the encoder output may change for different decoding steps.\n",
        "<br>\n",
        "<br>\n",
        "- Does the context vector change in different decoding steps?  \n",
        "Answer: Yes, the context vector is dynamic and changes for each decoding step. The context vector is the aggregated attention of the weighted sum of the encoder hidden states. During the decoding steps, it is possible to have updated attention weights, which in turn lead to an updated context vector.\n",
        "<br>\n",
        "<br>\n",
        "- The decoder uses teacher forcing. Does this mean the time steps can be computed in parallel?  \n",
        "Answer: In teacher forcing, the expected output is concatenated with the actual output, and passed to the next timestep. This still needs the sequential input from the previous timestep, and therefore the computation cannot be parallelized. RNNs can only be parallelized if all the connections are ground-truth to hidden connections.\n",
        "<br>\n",
        "<br>\n",
        "- Why is a mask applied to the loss function?  \n",
        "The samples provided as input are not of the same length. We pad the input before the training so as to make the input of a standard length. Masking is a way to tell sequence-processing layers that certain timesteps in an input are missing, and thus should be skipped when processing the data. "
      ]
    }
  ]
}